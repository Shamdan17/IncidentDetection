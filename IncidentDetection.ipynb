{
 "cells": [
  {
   "cell_type": "code",
   "execution_count": 1,
   "metadata": {
    "scrolled": true
   },
   "outputs": [],
   "source": [
    "import tensorflow as tf\n",
    "# print(\"Num GPUs Available: \", len(tf.config.experimental.list_physical_devices('GPU')))"
   ]
  },
  {
   "cell_type": "code",
   "execution_count": 2,
   "metadata": {},
   "outputs": [
    {
     "name": "stdout",
     "output_type": "stream",
     "text": [
      "1 Physical GPUs, 1 Logical GPUs\n"
     ]
    }
   ],
   "source": [
    "# Avoid hogging up gpu memory \n",
    "gpus = tf.config.experimental.list_physical_devices('GPU')\n",
    "if gpus:\n",
    "    try:\n",
    "        # Currently, memory growth needs to be the same across GPUs\n",
    "        for gpu in gpus:\n",
    "            tf.config.experimental.set_memory_growth(gpu, True)\n",
    "        logical_gpus = tf.config.experimental.list_logical_devices('GPU')\n",
    "        print(len(gpus), \"Physical GPUs,\", len(logical_gpus), \"Logical GPUs\")\n",
    "    except RuntimeError as e:\n",
    "        # Memory growth must be set before GPUs have been initialized\n",
    "        print(e)\n"
   ]
  },
  {
   "cell_type": "code",
   "execution_count": 3,
   "metadata": {},
   "outputs": [],
   "source": [
    "# For convenience\n",
    "%load_ext autoreload\n",
    "%autoreload 2"
   ]
  },
  {
   "cell_type": "code",
   "execution_count": 4,
   "metadata": {},
   "outputs": [],
   "source": [
    "from tensorflow import keras\n",
    "import json\n",
    "import os\n",
    "from tqdm import tqdm\n",
    "import pandas as pd\n",
    "import numpy as np\n",
    "import dataset\n",
    "from util import (\n",
    "    get_place_to_index_mapping,\n",
    "    get_incident_to_index_mapping\n",
    ")\n",
    "from keras.applications.resnet50 import ResNet50\n",
    "from keras.layers import Dense, Flatten, Permute\n",
    "from keras import Sequential\n",
    "import keras.backend as kb\n",
    "from keras.preprocessing.image import ImageDataGenerator\n",
    "import tensorflow as tf\n",
    "import PIL"
   ]
  },
  {
   "cell_type": "code",
   "execution_count": 5,
   "metadata": {},
   "outputs": [],
   "source": [
    "abs_path = \"/kuacc/users/asafaya19/cv-project\"\n",
    "train_json = os.path.join(abs_path ,\"eccv_train.json\")\n",
    "val_json = os.path.join(abs_path ,\"eccv_val.json\")\n",
    "data_dir = os.path.join(abs_path, \"data\")\n",
    "train_dir = os.path.join(data_dir, \"train\")\n",
    "val_dir = os.path.join(data_dir, \"val\")\n",
    "\n",
    "train_paths = json.loads(open(train_json).readline())\n",
    "val_paths = json.loads(open(val_json).readline())\n",
    "\n",
    "place_to_idx = get_place_to_index_mapping()\n",
    "incident_to_idx = get_incident_to_index_mapping()"
   ]
  },
  {
   "cell_type": "code",
   "execution_count": 6,
   "metadata": {},
   "outputs": [],
   "source": [
    "def get_dataset(paths,file_dir, threshold=1000):\n",
    "    train_set = []\n",
    "    for path in tqdm(paths, leave=False):\n",
    "    #     print(path)\n",
    "        if not os.path.exists(os.path.join(file_dir, path)):\n",
    "            continue\n",
    "        # Make sure image is not corrupt, try importing it\n",
    "        try:\n",
    "            img = PIL.Image.open(os.path.join(file_dir, path))\n",
    "            img.resize((224, 224))\n",
    "        except:\n",
    "            continue\n",
    "        nump = len(place_to_idx) + 1\n",
    "        numi = len(incident_to_idx) + 1\n",
    "        place_labels = np.zeros(nump, np.float32)\n",
    "        place_weights = np.zeros(nump, np.float32)\n",
    "        incident_labels = np.zeros(numi, np.float32)\n",
    "        incident_weights = np.zeros(numi, np.float32)\n",
    "\n",
    "        incidents = paths[path][\"incidents\"]\n",
    "        for k in incidents:\n",
    "            lbl = incidents[k]\n",
    "            if lbl==1:\n",
    "                # We are sure this instance is only this incident\n",
    "                incident_labels[incident_to_idx[k]]=1\n",
    "                incident_weights = np.ones(numi, np.float32)\n",
    "            else:\n",
    "                # We are only sure that this image is not that incident\n",
    "                incident_weights[incident_to_idx[k]]=1\n",
    "        if len(incidents)==0:\n",
    "            # No incident\n",
    "            incident_labels[-1]=1\n",
    "            incident_weights = np.ones(numi, np.float32)\n",
    "\n",
    "        places = paths[path][\"places\"]\n",
    "        for k in places:\n",
    "            lbl = places[k]\n",
    "            if lbl==1:\n",
    "                # We are sure this instance is only this incident\n",
    "                place_labels[place_to_idx[k]]=1\n",
    "                place_weights = np.ones(nump, np.float32)\n",
    "            else:\n",
    "                # We are only sure that this image is not that incident\n",
    "                place_weights[place_to_idx[k]]=1\n",
    "        if len(places)==0:\n",
    "            # No place\n",
    "            place_labels[-1]=1\n",
    "            place_weights = np.ones(nump, np.float32)\n",
    "\n",
    "\n",
    "        train_set.append({\n",
    "            \"path\":path,\n",
    "            \"incident_labels\":incident_labels,\n",
    "            \"incident_weights\":incident_weights,\n",
    "            \"incidents\":np.vstack((incident_labels, incident_weights)),\n",
    "            \"place_labels\":place_labels,\n",
    "            \"place_weights\":place_weights,\n",
    "            \"place\":np.vstack((place_labels, place_weights))\n",
    "        })\n",
    "        if len(train_set)>=threshold:\n",
    "            break\n",
    "    return train_set"
   ]
  },
  {
   "cell_type": "code",
   "execution_count": 7,
   "metadata": {},
   "outputs": [],
   "source": [
    "def getpreprocessfunc():\n",
    "    mean = np.asarray([0.485, 0.456, 0.406]).reshape(3, 1, 1).astype(np.float32)\n",
    "    std = np.asarray([0.229, 0.224, 0.225]).reshape(3, 1, 1).astype(np.float32)\n",
    "    def preprocessfunc(img):\n",
    "#         print(img.shape)\n",
    "#         print(type(img))\n",
    "        img /= 255\n",
    "        img -= mean\n",
    "        img /= std\n",
    "        return img\n",
    "    return preprocessfunc"
   ]
  },
  {
   "cell_type": "code",
   "execution_count": 8,
   "metadata": {},
   "outputs": [],
   "source": [
    "# Enclosure to retain state\n",
    "def get_weighted_accuracy():\n",
    "    m = keras.metrics.CategoricalAccuracy()\n",
    "    def weighted_accuracy(y_true, y_preds):\n",
    "        y_true = tf.reshape(y_true, (bs, 2, -1))\n",
    "        y_true_lbls = y_true[:,0,:]\n",
    "        return m(y_true_lbls, y_preds)\n",
    "    return weighted_accuracy"
   ]
  },
  {
   "cell_type": "code",
   "execution_count": 9,
   "metadata": {},
   "outputs": [],
   "source": [
    "def weighted_loss(y_true, y_preds):\n",
    "    bce = keras.losses.BinaryCrossentropy(keras.losses.Reduction.NONE)\n",
    "#     tf.print(y_true)\n",
    "#     tf.print(y_preds)\n",
    "#     print(y_true.shape)\n",
    "#     print(y_preds.shape)\n",
    "    bs = y_true.shape[0]\n",
    "    \n",
    "    print(y_true.shape, y_preds.shape)\n",
    "    \n",
    "    y_true = tf.reshape(y_true, (bs, 2, -1))\n",
    "    y_true_lbls = y_true[:,0,:]\n",
    "    y_true_weights = y_true[:,1,:]\n",
    "    bce_loss = bce(y_true_lbls, y_preds)\n",
    "#     import pdb\n",
    "#     pdb.set_trace()\n",
    "#     return bce_loss\n",
    "    return tf.reduce_sum(tf.multiply(bce_loss, y_true_weights))"
   ]
  },
  {
   "cell_type": "code",
   "execution_count": 10,
   "metadata": {},
   "outputs": [],
   "source": [
    "# from keras.models import model_from_json\n",
    "\n",
    "\n",
    "# class TrunkModel(keras.Model):\n",
    "#     def __init__(self, trunk_model, incident_weights, place_weights):\n",
    "#         super(FinalModel, self).__init__()\n",
    "#         self.trunk_model = trunk_model\n",
    "#         self.incident_proj = Dense(len(incident_to_idx), input_shape=(1024,), name=\"incidents_projection\", weights=incident_weights)\n",
    "#         self.places_proj = Dense(len(place_to_idx), input_shape=(1024,), name=\"places_projection\", weights=place_weights)\n",
    "        \n",
    "#     def call(self, inputs):\n",
    "# #         x = self.permute(inputs)\n",
    "#         x = self.cropped(inputs)\n",
    "#         x = self.permuteback(x)\n",
    "#         x = self.trunk_model(x)\n",
    "        \n",
    "#         return self.incident_proj(x), self.places_proj(x)"
   ]
  },
  {
   "cell_type": "code",
   "execution_count": 23,
   "metadata": {},
   "outputs": [],
   "source": [
    "from keras.models import model_from_json\n",
    "\n",
    "\n",
    "class FinalModel(keras.Model):\n",
    "    def __init__(self, trunk_model, incident_weights, place_weights):\n",
    "        super(FinalModel, self).__init__()\n",
    "        self.permute = Permute((2, 3, 1))\n",
    "        self.cropped = keras.layers.experimental.preprocessing.RandomCrop(224, 224)\n",
    "        self.permuteback = Permute((3, 1, 2))\n",
    "        self.trunk_model = trunk_model\n",
    "        self.incident_proj = Dense(len(incident_to_idx), input_shape=(1024,), name=\"incidents_projection\", weights=incident_weights)\n",
    "        self.places_proj = Dense(len(place_to_idx), input_shape=(1024,), name=\"places_projection\", weights=place_weights)\n",
    "        \n",
    "    def call(self, inputs):\n",
    "        x = self.permute(inputs)\n",
    "        x = self.cropped(x)\n",
    "        x = self.permuteback(x)\n",
    "        x = self.trunk_model(x)\n",
    "        \n",
    "        return self.incident_proj(x), self.places_proj(x)"
   ]
  },
  {
   "cell_type": "code",
   "execution_count": 12,
   "metadata": {},
   "outputs": [
    {
     "name": "stderr",
     "output_type": "stream",
     "text": [
      "                                                       \r"
     ]
    }
   ],
   "source": [
    "# train_set = get_dataset(train_paths, train_dir, 1000)\n",
    "train_set = get_dataset(train_paths, train_dir, 10)\n",
    "val_set = get_dataset(val_paths, val_dir, 10)\n",
    "\n",
    "train_df = pd.DataFrame(train_set)\n",
    "val_df = pd.DataFrame(val_set)"
   ]
  },
  {
   "cell_type": "code",
   "execution_count": 13,
   "metadata": {
    "scrolled": true
   },
   "outputs": [
    {
     "name": "stdout",
     "output_type": "stream",
     "text": [
      "Found 10 validated image filenames.\n"
     ]
    }
   ],
   "source": [
    "imgen = ImageDataGenerator(\n",
    "    horizontal_flip=True,\n",
    "    preprocessing_function=getpreprocessfunc(),\n",
    ")\n",
    "\n",
    "imgen = imgen.flow_from_dataframe(\n",
    "    train_df,\n",
    "    directory=train_dir,\n",
    "    x_col=\"path\",\n",
    "    y_col=[\"incidents\", \"place\"],\n",
    "    weight_col=None,\n",
    "    target_size=(256, 256),\n",
    "    color_mode=\"rgb\",\n",
    "    classes=None,\n",
    "    class_mode=\"multi_output\",\n",
    "    batch_size=64,\n",
    "    shuffle=False,\n",
    "    seed=True,\n",
    "    save_to_dir=None,\n",
    "    save_prefix=\"\",\n",
    "    save_format=\"png\",\n",
    "    subset=None,\n",
    "    interpolation=\"nearest\",\n",
    "    validate_filenames=True,\n",
    ")"
   ]
  },
  {
   "cell_type": "code",
   "execution_count": 14,
   "metadata": {},
   "outputs": [],
   "source": [
    "losses = {\n",
    "    \"output_1\": weighted_loss,\n",
    "    \"output_2\": weighted_loss,\n",
    "}"
   ]
  },
  {
   "cell_type": "code",
   "execution_count": 15,
   "metadata": {},
   "outputs": [
    {
     "data": {
      "text/plain": [
       "'2.4.0'"
      ]
     },
     "execution_count": 15,
     "metadata": {},
     "output_type": "execute_result"
    }
   ],
   "source": [
    "tf.__version__"
   ]
  },
  {
   "cell_type": "code",
   "execution_count": 16,
   "metadata": {},
   "outputs": [],
   "source": [
    "import resnet"
   ]
  },
  {
   "cell_type": "code",
   "execution_count": 17,
   "metadata": {},
   "outputs": [],
   "source": [
    "import torch"
   ]
  },
  {
   "cell_type": "code",
   "execution_count": 18,
   "metadata": {},
   "outputs": [],
   "source": [
    "# ?keras.layers.experimental.preprocessing.RandomCrop"
   ]
  },
  {
   "cell_type": "code",
   "execution_count": 19,
   "metadata": {},
   "outputs": [
    {
     "ename": "TypeError",
     "evalue": "__init__() missing 1 required positional argument: 'width'",
     "output_type": "error",
     "traceback": [
      "\u001b[0;31m---------------------------------------------------------------------------\u001b[0m",
      "\u001b[0;31mTypeError\u001b[0m                                 Traceback (most recent call last)",
      "\u001b[0;32m<ipython-input-19-02cbd9e545b3>\u001b[0m in \u001b[0;36m<module>\u001b[0;34m\u001b[0m\n\u001b[0;32m----> 1\u001b[0;31m \u001b[0mkeras\u001b[0m\u001b[0;34m.\u001b[0m\u001b[0mlayers\u001b[0m\u001b[0;34m.\u001b[0m\u001b[0mexperimental\u001b[0m\u001b[0;34m.\u001b[0m\u001b[0mpreprocessing\u001b[0m\u001b[0;34m.\u001b[0m\u001b[0mRandomCrop\u001b[0m\u001b[0;34m(\u001b[0m\u001b[0;34m(\u001b[0m\u001b[0;36m3\u001b[0m\u001b[0;34m,\u001b[0m \u001b[0;36m224\u001b[0m\u001b[0;34m,\u001b[0m \u001b[0;36m224\u001b[0m\u001b[0;34m)\u001b[0m\u001b[0;34m)\u001b[0m\u001b[0;34m(\u001b[0m\u001b[0mnp\u001b[0m\u001b[0;34m.\u001b[0m\u001b[0mrandom\u001b[0m\u001b[0;34m.\u001b[0m\u001b[0mrandn\u001b[0m\u001b[0;34m(\u001b[0m\u001b[0;36m1\u001b[0m\u001b[0;34m,\u001b[0m\u001b[0;36m3\u001b[0m\u001b[0;34m,\u001b[0m \u001b[0;36m256\u001b[0m\u001b[0;34m,\u001b[0m \u001b[0;36m256\u001b[0m\u001b[0;34m)\u001b[0m\u001b[0;34m)\u001b[0m\u001b[0;34m\u001b[0m\u001b[0;34m\u001b[0m\u001b[0m\n\u001b[0m",
      "\u001b[0;31mTypeError\u001b[0m: __init__() missing 1 required positional argument: 'width'"
     ]
    }
   ],
   "source": [
    "# keras.layers.experimental.preprocessing.RandomCrop((3, 224, 224))(np.random.randn(1,3, 256, 256))"
   ]
  },
  {
   "cell_type": "code",
   "execution_count": 20,
   "metadata": {
    "scrolled": true
   },
   "outputs": [],
   "source": [
    "inp = keras.Input(shape=(3, 256, 256))\n",
    "cropped = keras.layers.experimental.preprocessing.RandomCrop(3, 224, 224)(inp)\n",
    "# model = ResNet50(include_top=False, pooling = \"avg\", weights=\"imagenet\")(cropped)\n",
    "# trunk = Dense(1024, activation=\"relu\", name=\"trunk\")(model)\n",
    "trunk = resnet.trunk()\n",
    "resnet.init_weights_from_torch(trunk, \"/kuacc/users/shamdan17/cv/IncidentsDataset/pretrained_weights/eccv_final_model_trunk.pth.tar\")"
   ]
  },
  {
   "cell_type": "code",
   "execution_count": 24,
   "metadata": {},
   "outputs": [],
   "source": [
    "opt = keras.optimizers.Adam(lr=1e-5)\n",
    "\n",
    "# trunk_model = model_from_json(open(os.path.join(abs_path,'models/trunk.json'), 'r').read())\n",
    "# trunk_model.load_weights(os.path.join(abs_path,\"models/trunk.h5\"))\n",
    "place_w = np.load(os.path.join(abs_path,'models/place_w.npy')).T\n",
    "place_b = np.load(os.path.join(abs_path,'models/place_b.npy')).T\n",
    "incident_w = np.load(os.path.join(abs_path,'models/incident_w.npy')).T\n",
    "incident_b = np.load(os.path.join(abs_path,'models/incident_b.npy')).T\n",
    "\n",
    "mdl = FinalModel(trunk, [incident_w, incident_b], [place_w, place_b])\n",
    "\n",
    "mdl.compile(optimizer=opt, loss=losses, metrics=[get_weighted_accuracy()])"
   ]
  },
  {
   "cell_type": "code",
   "execution_count": 25,
   "metadata": {
    "scrolled": true
   },
   "outputs": [],
   "source": [
    "x, y = next(imgen)\n",
    "o = mdl(x, training=False)"
   ]
  },
  {
   "cell_type": "code",
   "execution_count": 26,
   "metadata": {
    "collapsed": true
   },
   "outputs": [
    {
     "data": {
      "text/plain": [
       "(<tf.Tensor: shape=(10, 43), dtype=float32, numpy=\n",
       " array([[ -7.1617665 ,  -4.8341255 ,  -4.2903466 ,  -6.3418193 ,\n",
       "          -9.380282  ,  -4.4043617 ,  -9.522434  ,  -3.4043517 ,\n",
       "          -4.7348557 ,  -4.297809  ,  -5.3797116 ,  -6.4514937 ,\n",
       "          -6.299391  ,  -4.9656057 ,  -4.863049  ,  -3.090029  ,\n",
       "          -4.5712547 ,  -4.314076  ,  -5.7307844 ,  -9.096714  ,\n",
       "          -7.843625  ,  -4.1009216 ,  -7.644072  ,  -3.781779  ,\n",
       "          -3.6550143 ,  -8.522072  ,  -2.4068387 ,  -7.84911   ,\n",
       "          -5.88979   ,  -4.6173177 ,  -4.505504  ,  -8.359604  ,\n",
       "          -8.286058  ,  -8.392991  ,  -8.128646  ,  -9.057092  ,\n",
       "          -7.056719  ,  -7.635836  ,  -8.337256  ,  -9.846811  ,\n",
       "         -11.560063  ,  -3.783824  ,  -6.4505286 ],\n",
       "        [ -9.09824   , -10.97041   ,  -8.702867  ,  -6.4431343 ,\n",
       "         -10.122774  ,   1.0165751 , -10.852257  ,  -8.753836  ,\n",
       "          -9.618648  ,  -9.080101  ,  -2.158973  ,  -9.106092  ,\n",
       "         -12.510469  , -10.714614  , -12.404375  ,  -8.476573  ,\n",
       "          -9.974795  , -12.667392  ,  -7.973989  ,  -9.422353  ,\n",
       "         -13.530422  , -11.43707   , -13.313036  ,  -2.9701328 ,\n",
       "          -9.30047   , -10.136346  , -11.76543   , -10.377125  ,\n",
       "          -7.2688046 , -11.74084   , -12.107766  ,  -9.266625  ,\n",
       "         -12.674817  , -10.388795  ,  -9.438244  , -11.58998   ,\n",
       "         -11.103429  ,  -7.554879  , -10.952719  , -10.142242  ,\n",
       "         -10.177207  , -13.112958  , -11.78601   ],\n",
       "        [ -5.654858  ,  -2.4776947 ,  -5.8181    ,  -5.6750417 ,\n",
       "          -7.0248322 ,  -4.1896563 ,  -2.6686473 ,  -5.7189126 ,\n",
       "          -6.7264366 ,  -5.080836  ,  -5.1519265 ,  -6.117421  ,\n",
       "          -2.707849  ,  -6.9818506 ,  -9.962115  ,  -4.2558427 ,\n",
       "          -1.7681669 ,  -6.3686385 ,  -5.363465  ,  -6.609057  ,\n",
       "          -9.755536  ,  -6.062566  , -11.449179  ,  -8.024968  ,\n",
       "          -9.973835  ,  -6.3197722 ,  -3.053088  ,  -3.3786027 ,\n",
       "          -6.837224  ,  -8.558318  ,  -6.2204156 ,  -5.9191113 ,\n",
       "          -7.305064  ,  -7.99757   ,  -8.880902  ,  -8.522168  ,\n",
       "          -8.697771  ,  -8.33577   ,  -8.876734  ,  -8.901549  ,\n",
       "          -9.60183   ,  -7.114265  ,  -6.037605  ],\n",
       "        [ -6.1807156 ,  -2.594181  ,  -5.5420594 ,  -7.4015093 ,\n",
       "          -7.0810804 ,  -7.9827127 ,  -7.8514686 ,  -7.5517054 ,\n",
       "          -4.6923814 ,  -6.1238527 , -10.363575  ,  -9.308216  ,\n",
       "          -8.543777  ,  -8.40599   ,  -7.4856706 ,  -6.91886   ,\n",
       "          -5.1319113 , -10.217863  ,  -9.529401  ,  -8.886274  ,\n",
       "          -9.459102  ,  -7.511756  , -10.705626  , -11.099382  ,\n",
       "          -9.554245  , -10.540725  ,  -5.2791195 ,  -4.914288  ,\n",
       "         -10.753964  , -10.64862   ,  -8.475976  , -11.046115  ,\n",
       "          -3.0245912 ,  -4.886981  ,  -9.521138  , -10.541819  ,\n",
       "          -8.762428  , -11.294902  , -10.471965  ,  -9.3941555 ,\n",
       "          -9.963382  ,  -4.090329  ,  -8.188405  ],\n",
       "        [ -8.004757  ,  -8.980594  ,  -6.4228635 ,  -6.3724318 ,\n",
       "          -8.71789   ,  -4.3029323 ,  -8.349263  ,  -8.607298  ,\n",
       "          -7.1032763 ,  -6.104152  ,  -3.8731046 ,  -5.135909  ,\n",
       "          -8.857945  ,  -3.1863391 ,  -7.3690376 ,  -4.8793817 ,\n",
       "         -10.192239  ,  -5.0382204 ,  -7.2995853 ,  -8.390809  ,\n",
       "          -6.028763  ,  -3.6076972 ,  -5.9007373 ,  -2.0280879 ,\n",
       "          -2.9898381 ,  -4.847792  ,  -6.3384686 ,  -9.981351  ,\n",
       "          -6.8226066 ,  -7.5841465 ,  -5.7398596 ,  -6.7140384 ,\n",
       "          -7.9940467 ,  -6.7604146 ,  -7.6436143 ,  -9.501605  ,\n",
       "          -7.75098   ,  -8.480071  ,  -8.17735   ,  -8.735862  ,\n",
       "         -10.783687  ,  -6.4241614 ,  -7.683588  ],\n",
       "        [ -5.547102  ,  -7.380397  ,  -5.338176  ,  -3.7237434 ,\n",
       "          -6.5599184 ,  -7.0334415 ,  -4.9120145 ,  -6.821173  ,\n",
       "          -6.183716  ,  -3.996864  ,  -8.784194  ,  -5.587444  ,\n",
       "          -4.5626664 ,  -5.721634  ,  -7.9275956 ,  -7.1049986 ,\n",
       "          -9.618645  ,  -3.8398857 ,  -3.9188108 ,  -5.240969  ,\n",
       "          -9.223426  ,  -6.9470863 ,  -8.646874  ,  -8.001691  ,\n",
       "          -6.914996  ,  -6.533919  ,  -8.7704525 ,  -7.646399  ,\n",
       "          -6.3697906 ,  -4.267595  ,  -7.069195  ,  -1.0356752 ,\n",
       "          -9.803355  ,  -7.831814  ,  -5.209236  ,  -8.420357  ,\n",
       "          -5.653053  ,  -4.8630185 ,  -4.793522  ,  -6.1783957 ,\n",
       "          -7.365019  ,  -8.691489  ,  -6.8373003 ],\n",
       "        [ -9.29332   ,   2.8524516 ,  -7.469948  ,  -8.233252  ,\n",
       "         -13.366565  , -11.523698  , -14.556764  , -14.205426  ,\n",
       "         -15.0539255 , -12.518539  , -10.21296   , -12.10315   ,\n",
       "         -14.13162   , -12.60891   , -14.062335  ,  -6.799335  ,\n",
       "          -5.8056083 , -15.731196  , -13.640536  , -13.231775  ,\n",
       "         -11.811009  ,  -5.3534493 , -11.475453  , -11.780003  ,\n",
       "         -13.585358  , -12.721243  ,  -7.336596  , -13.069085  ,\n",
       "         -11.953979  , -15.864915  , -16.166338  , -12.815488  ,\n",
       "         -12.97765   , -14.609729  , -15.96556   , -17.3314    ,\n",
       "         -14.329668  , -13.22112   , -15.7125635 , -16.187376  ,\n",
       "         -15.106921  ,  -8.341012  , -17.220884  ],\n",
       "        [ -5.185596  ,  -6.365007  ,  -6.374802  ,  -4.61442   ,\n",
       "          -4.6862283 ,  -5.3722105 ,  -4.838501  ,  -7.3057637 ,\n",
       "          -5.7926087 ,  -5.4188323 ,  -5.0868692 ,  -9.644545  ,\n",
       "          -8.767091  ,  -9.703567  ,  -8.449335  ,  -7.86004   ,\n",
       "          -5.0679603 ,  -9.243754  ,  -9.298694  ,  -5.611827  ,\n",
       "          -8.552775  ,  -7.6731653 ,  -8.547504  ,  -7.886981  ,\n",
       "          -8.9056225 ,  -4.804293  ,  -9.016811  ,  -6.9194274 ,\n",
       "          -5.682612  , -10.885345  ,  -8.228172  ,  -2.9401412 ,\n",
       "          -6.300647  ,  -6.802957  ,  -1.1067845 ,  -5.882256  ,\n",
       "          -3.617223  ,  -3.2469804 ,  -2.2222238 ,  -2.4746714 ,\n",
       "          -3.8433065 ,  -6.591104  ,  -9.38731   ],\n",
       "        [ -7.0926695 ,  -9.74055   ,  -7.8605103 ,  -8.3484535 ,\n",
       "           1.1375959 , -11.06621   ,  -5.5912156 ,  -9.073038  ,\n",
       "         -10.861783  ,  -9.447032  , -13.098676  , -12.115681  ,\n",
       "         -12.343345  , -14.758016  , -11.545847  , -10.155747  ,\n",
       "         -11.753789  , -12.371603  , -12.2948265 ,  -7.0979123 ,\n",
       "          -8.165229  , -12.391654  , -10.637644  , -12.366895  ,\n",
       "         -12.316596  , -10.704914  , -12.362234  , -11.626945  ,\n",
       "         -14.347169  , -12.03046   , -12.476994  ,  -8.796351  ,\n",
       "          -8.550708  ,  -4.7905154 ,  -9.456876  ,  -1.2433558 ,\n",
       "          -8.008852  , -13.595137  , -13.69251   , -10.182294  ,\n",
       "          -6.2984776 ,  -9.717559  , -11.932036  ],\n",
       "        [ -4.044435  ,  -7.130948  ,  -4.274368  ,  -6.784888  ,\n",
       "          -5.180289  ,  -9.656457  ,  -7.6665034 ,  -4.1654587 ,\n",
       "          -6.1251183 ,  -6.363067  ,  -9.7769985 ,  -8.399306  ,\n",
       "          -7.482355  ,  -7.8339157 ,  -6.1771774 ,  -6.252644  ,\n",
       "          -8.732363  ,  -8.253324  ,  -9.790786  ,  -6.8752656 ,\n",
       "          -6.2880034 ,  -5.550736  ,  -9.149999  ,  -9.967197  ,\n",
       "          -8.64228   ,  -7.135263  ,  -7.7890854 ,  -8.332969  ,\n",
       "          -7.8862443 , -10.189364  ,  -7.883711  ,  -8.251401  ,\n",
       "          -6.4768186 ,  -2.8362677 ,  -0.68593186,  -3.4526184 ,\n",
       "          -1.7326591 ,  -7.460432  ,  -5.9028115 ,  -1.832141  ,\n",
       "          -4.3989806 ,  -7.1646147 ,  -7.9697733 ]], dtype=float32)>,\n",
       " <tf.Tensor: shape=(10, 49), dtype=float32, numpy=\n",
       " array([[ -8.896589  ,  -6.118128  ,  -7.234023  ,  -8.941457  ,\n",
       "          -4.526123  ,  -9.579933  ,  -5.2352495 ,  -8.716418  ,\n",
       "          -8.286894  ,  -8.592634  ,  -6.9812536 ,  -8.768507  ,\n",
       "          -9.97482   ,  -8.185438  ,  -6.9005485 ,  -6.6172895 ,\n",
       "          -4.755366  ,  -6.0547175 ,  -5.6544137 ,  -5.119712  ,\n",
       "          -5.9518156 ,  -7.14465   ,  -9.724528  ,  -6.442229  ,\n",
       "          -5.074047  ,  -7.778742  ,  -7.55147   ,  -4.998943  ,\n",
       "          -7.478201  ,  -4.656772  ,  -7.6366863 ,  -7.8375993 ,\n",
       "          -8.640175  ,  -9.068882  ,  -6.830264  ,  -8.455679  ,\n",
       "          -4.976628  ,  -9.640839  , -10.705899  ,  -4.816212  ,\n",
       "          -5.9250746 , -12.55902   ,  -7.9947243 ,  -2.977849  ,\n",
       "          -6.436199  ,  -6.0959754 ,  -6.8293223 ,  -8.390727  ,\n",
       "          -1.0255831 ],\n",
       "        [ -7.2266493 , -10.695789  ,  -8.656935  ,  -8.848554  ,\n",
       "          -3.8204236 ,  -8.664757  , -10.955583  ,  -9.760132  ,\n",
       "         -11.846445  ,  -9.284221  ,  -9.768603  ,  -6.652991  ,\n",
       "         -11.165687  ,  -6.7438574 ,  -6.2348104 ,  -8.17857   ,\n",
       "          -5.272772  ,  -7.7888913 , -10.736746  ,  -5.206935  ,\n",
       "          -7.2922096 ,  -6.799688  , -10.519788  ,  -9.469414  ,\n",
       "          -9.637028  ,  -8.969844  ,  -9.097524  ,  -5.548386  ,\n",
       "         -11.347063  , -11.954215  , -15.119969  ,  -5.466923  ,\n",
       "          -7.7545805 , -12.801683  , -10.875794  ,  -7.6791453 ,\n",
       "         -10.362379  ,  -5.091503  ,  -7.432832  ,  -9.8347225 ,\n",
       "          -5.974518  ,  -8.875709  ,  -8.080409  ,   1.8254745 ,\n",
       "          -6.733674  ,  -5.7735    ,  -6.857097  ,  -6.471449  ,\n",
       "          -8.722953  ],\n",
       "        [-11.011857  ,  -4.855062  ,  -4.1503153 ,  -4.472413  ,\n",
       "          -1.0558586 ,  -8.326228  ,  -5.3434277 ,  -3.4173555 ,\n",
       "          -8.705699  ,  -8.3706045 ,  -7.043403  ,  -1.6080508 ,\n",
       "          -8.015768  ,  -9.17316   ,  -7.897926  ,  -9.145435  ,\n",
       "          -9.644558  ,  -8.108914  ,  -7.8857965 , -10.7590885 ,\n",
       "          -4.792198  ,  -7.677121  ,  -5.7589145 , -10.698782  ,\n",
       "          -6.9859147 , -10.552148  ,  -7.3400345 , -11.698924  ,\n",
       "          -7.3047895 ,  -6.0633454 ,  -7.6838236 ,  -4.876192  ,\n",
       "          -8.248687  ,  -6.15749   ,  -5.5880218 ,  -7.8434258 ,\n",
       "          -7.403054  ,  -3.2830763 ,  -6.5301404 ,  -5.5891285 ,\n",
       "          -6.5625787 ,  -0.6738919 ,  -7.3670955 ,  -8.368798  ,\n",
       "          -6.57454   ,  -3.5477023 , -10.336169  ,  -8.238549  ,\n",
       "         -10.26122   ],\n",
       "        [ -9.564323  ,  -5.0564246 ,  -6.7993636 , -10.785301  ,\n",
       "          -5.5901246 , -10.464268  ,  -2.643304  ,  -6.6760755 ,\n",
       "          -6.585827  , -12.834369  , -10.198281  ,  -9.630922  ,\n",
       "          -6.4367275 ,  -6.760461  ,  -6.213343  ,  -5.6606727 ,\n",
       "          -8.012872  , -11.01668   ,  -8.813505  ,  -8.958189  ,\n",
       "          -9.067978  ,  -8.819885  ,  -7.4027696 ,  -9.671548  ,\n",
       "          -3.3259277 ,  -7.741171  ,  -3.8528733 ,  -7.983699  ,\n",
       "          -8.952967  ,  -4.161844  ,  -0.31025118,  -7.2237425 ,\n",
       "         -11.187785  ,  -5.5697517 ,  -2.0613713 ,  -7.4401536 ,\n",
       "          -9.585138  ,  -5.825147  , -12.278449  ,  -1.2373953 ,\n",
       "          -5.7552066 ,  -9.535034  ,  -9.728413  ,  -8.742759  ,\n",
       "          -7.8278227 ,  -9.79481   ,  -7.13583   ,  -6.4721556 ,\n",
       "          -8.607909  ],\n",
       "        [ -7.7660646 ,  -8.251868  ,  -8.456603  , -10.100847  ,\n",
       "          -5.0855155 , -10.333188  ,  -8.006852  ,  -8.664411  ,\n",
       "          -9.123527  ,  -6.919417  ,  -6.5453057 ,  -7.2760344 ,\n",
       "          -9.050961  ,  -8.64184   ,  -4.770225  ,  -7.4317174 ,\n",
       "          -5.3087378 ,  -5.284807  ,  -7.040434  ,  -3.6930833 ,\n",
       "          -4.5545597 ,  -8.601555  , -10.217372  ,  -9.751271  ,\n",
       "          -6.366736  ,  -8.739649  ,  -8.0304    ,  -4.0162544 ,\n",
       "          -8.326878  ,  -8.751537  ,  -7.923581  ,  -9.5089035 ,\n",
       "          -9.529868  , -10.050327  ,  -7.092954  ,  -8.702107  ,\n",
       "          -6.102084  ,  -9.601695  , -10.299344  ,  -7.196959  ,\n",
       "          -7.1732554 , -10.602583  , -10.7013235 ,  -3.4103498 ,\n",
       "          -7.1975546 ,  -6.8314104 ,  -6.9804063 , -10.267778  ,\n",
       "          -0.31081527],\n",
       "        [ -6.179048  ,  -5.323578  ,  -5.106833  ,  -6.4558096 ,\n",
       "          -1.3330557 ,  -9.171113  ,  -5.4845715 ,  -7.076627  ,\n",
       "          -9.825369  ,  -4.2895546 ,  -4.753268  ,  -3.4138508 ,\n",
       "          -9.71951   ,  -7.76513   ,  -6.017258  ,  -7.7744803 ,\n",
       "          -8.129329  ,  -5.566432  ,  -6.1588845 ,  -9.463303  ,\n",
       "          -1.898706  ,  -5.7522287 ,  -6.387288  ,  -6.379615  ,\n",
       "          -8.3993225 ,  -8.261317  ,  -9.352828  ,  -5.104756  ,\n",
       "          -8.483922  ,  -8.448277  , -11.158006  ,  -7.3701015 ,\n",
       "          -1.790527  ,  -7.7193465 ,  -5.438261  ,  -5.468728  ,\n",
       "          -8.039972  ,  -5.1239605 ,  -4.2708807 ,  -8.103544  ,\n",
       "          -3.265997  ,  -6.973291  ,  -6.430483  ,  -6.499406  ,\n",
       "          -7.8020525 ,  -1.0235215 ,  -6.2454925 ,  -5.9725304 ,\n",
       "          -5.735761  ],\n",
       "        [-11.094506  ,  -6.708121  ,  -6.1130633 , -10.990617  ,\n",
       "          -3.1300783 , -11.03346   ,  -5.456719  ,  -9.595668  ,\n",
       "          -6.341977  ,  -6.2942476 ,  -9.9454155 ,  -7.137671  ,\n",
       "          -9.185913  ,  -6.6105666 ,  -6.3406277 ,  -8.259198  ,\n",
       "          -3.7920895 ,  -2.111178  ,  -5.520438  , -11.238326  ,\n",
       "          -0.8527731 ,  -7.3223257 ,  -8.769406  , -11.812013  ,\n",
       "          -2.1572611 ,  -9.478732  , -10.611226  ,  -4.934523  ,\n",
       "         -12.947408  ,  -9.172864  , -14.133436  ,  -4.2567587 ,\n",
       "          -7.2930965 ,  -9.2890625 ,  -6.7405696 ,  -5.012714  ,\n",
       "          -8.752726  ,  -8.244702  ,  -6.0996747 ,  -1.8513519 ,\n",
       "          -5.9792514 , -11.035929  , -10.201042  ,  -7.4900556 ,\n",
       "          -8.496265  ,  -2.7754693 ,  -5.9335537 ,  -5.641104  ,\n",
       "         -11.9183655 ],\n",
       "        [ -7.584104  ,  -7.6322603 ,  -4.5415573 ,  -7.4984784 ,\n",
       "          -2.5171921 ,  -6.691238  ,  -6.8405924 ,  -2.811412  ,\n",
       "          -8.355596  ,  -5.86078   ,  -9.263479  ,  -3.4957187 ,\n",
       "          -4.819824  ,  -6.0273747 ,  -5.6345983 ,  -1.3175704 ,\n",
       "          -6.5962715 ,  -5.0418515 ,  -5.612959  ,  -7.650908  ,\n",
       "          -0.57899463,  -5.8258066 ,  -6.326447  ,  -6.9302373 ,\n",
       "          -8.883925  ,  -7.096948  ,  -8.71824   ,  -6.3944464 ,\n",
       "          -8.4243    ,  -9.687896  ,  -7.76784   ,  -7.2775965 ,\n",
       "          -4.3014083 ,  -7.6536093 ,  -4.730307  ,  -5.8660636 ,\n",
       "          -7.178507  ,  -5.108553  ,  -7.724711  ,  -7.0064297 ,\n",
       "          -6.953414  ,  -5.9346824 ,  -5.453908  ,  -5.190037  ,\n",
       "          -5.415909  ,  -1.2509749 ,  -7.424661  ,  -7.006405  ,\n",
       "          -7.8351107 ],\n",
       "        [ -6.449441  ,  -7.4122744 ,  -1.3278555 ,  -6.805773  ,\n",
       "          -1.6587218 ,  -8.94684   ,  -6.353028  ,  -3.1059976 ,\n",
       "          -6.2883615 ,  -6.071602  ,  -8.6411495 ,  -4.8585854 ,\n",
       "          -5.904972  ,  -4.8903255 ,  -3.5301294 ,  -6.5587893 ,\n",
       "          -6.886746  ,  -7.853366  ,  -5.5665383 , -10.4786215 ,\n",
       "          -2.0996473 ,  -5.385546  ,  -3.4179711 ,  -5.8832827 ,\n",
       "          -7.688379  ,  -5.119773  , -10.761945  ,  -5.731194  ,\n",
       "          -6.9313526 ,  -9.475018  ,  -9.495549  ,  -7.499067  ,\n",
       "          -6.567483  ,  -7.0184937 ,  -5.1694202 ,  -5.572484  ,\n",
       "          -3.8323956 ,  -5.876284  ,  -5.3941493 ,  -3.6205468 ,\n",
       "          -4.5410876 ,  -6.878086  ,  -2.1592948 ,  -7.0163803 ,\n",
       "          -4.0746517 ,  -5.2143955 ,  -6.2514153 ,  -2.5521545 ,\n",
       "         -10.032855  ],\n",
       "        [ -4.999769  ,  -8.450856  ,  -5.364127  ,  -6.5442524 ,\n",
       "          -3.6822054 ,  -7.0677104 ,  -7.5342484 ,  -5.1747355 ,\n",
       "          -7.1148534 ,  -6.42313   ,  -4.9339967 ,  -6.7549386 ,\n",
       "          -5.782951  ,  -2.9785252 ,  -2.4178367 ,  -5.4028397 ,\n",
       "          -1.5554868 ,  -3.9317198 ,  -6.3335724 ,  -9.278895  ,\n",
       "          -4.7435026 ,  -3.9041626 ,  -5.754304  ,  -1.675386  ,\n",
       "          -6.122942  ,  -4.0085764 ,  -7.873446  ,  -5.5203376 ,\n",
       "          -6.7600665 ,  -8.259356  ,  -8.984393  ,  -5.259211  ,\n",
       "          -6.289626  ,  -9.217234  ,  -5.769459  ,  -5.865846  ,\n",
       "          -4.0890875 ,  -5.0268517 ,  -7.1142955 ,  -5.548738  ,\n",
       "          -6.1624117 ,  -7.232006  ,  -5.391237  ,  -6.5924826 ,\n",
       "          -5.702052  ,  -5.9191046 ,  -5.274298  ,  -4.8861394 ,\n",
       "          -6.495232  ]], dtype=float32)>)"
      ]
     },
     "execution_count": 26,
     "metadata": {},
     "output_type": "execute_result"
    }
   ],
   "source": [
    "o"
   ]
  },
  {
   "cell_type": "code",
   "execution_count": 27,
   "metadata": {},
   "outputs": [],
   "source": [
    "from functools import partial\n",
    "import sklearn\n",
    "from sklearn.metrics._base import type_of_target\n",
    "\n",
    "def sigmoid(z):\n",
    "    return 1/(1 + np.exp(-z))\n",
    "\n",
    "def fixed_precision_recall_curve(y_true, probas_pred, *, pos_label=None,\n",
    "                           sample_weight=None):\n",
    "\n",
    "    fps, tps, thresholds = sklearn.metrics._ranking._binary_clf_curve(y_true, probas_pred,\n",
    "                                             pos_label=pos_label,\n",
    "                                             sample_weight=sample_weight)\n",
    "\n",
    "    precision = tps / (tps + fps)\n",
    "    precision[np.isnan(precision)] = 0\n",
    "    recall = np.ones(tps.size) if tps[-1] == 0 else tps / tps[-1]\n",
    "\n",
    "    # stop when full recall attained\n",
    "    # and reverse the outputs so recall is decreasing\n",
    "    last_ind = tps.searchsorted(tps[-1])\n",
    "    sl = slice(last_ind, None, -1)\n",
    "    return np.r_[precision[sl], 1], np.r_[recall[sl], 0], thresholds[sl]\n",
    "\n",
    "\n",
    "def average_precision_score(y_true, y_score, *, average=\"macro\", pos_label=1,\n",
    "                            sample_weight=None):\n",
    "    def _binary_uninterpolated_average_precision(\n",
    "            y_true, y_score, pos_label=1, sample_weight=None):\n",
    "        precision, recall, _ = fixed_precision_recall_curve(\n",
    "            y_true, y_score, pos_label=pos_label, sample_weight=sample_weight)\n",
    "        # Return the step function integral\n",
    "        # The following works because the last entry of precision is\n",
    "        # guaranteed to be 1, as returned by precision_recall_curve\n",
    "        return -np.sum(np.diff(recall) * np.array(precision)[:-1])\n",
    "\n",
    "    y_type = type_of_target(y_true)\n",
    "    if y_type == \"multilabel-indicator\" and pos_label != 1:\n",
    "        raise ValueError(\"Parameter pos_label is fixed to 1 for \"\n",
    "                         \"multilabel-indicator y_true. Do not set \"\n",
    "                         \"pos_label or set pos_label to 1.\")\n",
    "    elif y_type == \"binary\":\n",
    "        # Convert to Python primitive type to avoid NumPy type / Python str\n",
    "        # comparison. See https://github.com/numpy/numpy/issues/6784\n",
    "        present_labels = np.unique(y_true).tolist()\n",
    "        if len(present_labels) == 2 and pos_label not in present_labels:\n",
    "            raise ValueError(\n",
    "                f\"pos_label={pos_label} is not a valid label. It should be \"\n",
    "                f\"one of {present_labels}\"\n",
    "            )\n",
    "    average_precision = partial(_binary_uninterpolated_average_precision,\n",
    "                                pos_label=pos_label)\n",
    "    return sklearn.metrics._base._average_binary_score(average_precision, y_true, y_score,\n",
    "                                 average, sample_weight=sample_weight)"
   ]
  },
  {
   "cell_type": "code",
   "execution_count": 30,
   "metadata": {},
   "outputs": [
    {
     "name": "stderr",
     "output_type": "stream",
     "text": [
      "  3%|▎         | 1864/57207 [00:41<23:29, 39.28it/s]  /kuacc/users/shamdan17/.conda/envs/cv/lib/python3.8/site-packages/PIL/TiffImagePlugin.py:792: UserWarning: Corrupt EXIF data.  Expecting to read 4 bytes but only got 0. \n",
      "  warnings.warn(str(msg))\n",
      "                                                      \r"
     ]
    },
    {
     "name": "stdout",
     "output_type": "stream",
     "text": [
      "Found 2000 validated image filenames.\n"
     ]
    }
   ],
   "source": [
    "val_set = get_dataset(val_paths, val_dir, threshold=2000)\n",
    "val_df = pd.DataFrame(val_set)\n",
    "\n",
    "imgen = ImageDataGenerator(\n",
    "    preprocessing_function=getpreprocessfunc(),\n",
    ")\n",
    "\n",
    "imgen = imgen.flow_from_dataframe(\n",
    "    val_df,\n",
    "    directory=val_dir,\n",
    "    x_col=\"path\",\n",
    "    y_col=[\"incidents\", \"place\"],\n",
    "    weight_col=None,\n",
    "    target_size=(256, 256),\n",
    "    color_mode=\"rgb\",\n",
    "    classes=None,\n",
    "    class_mode=\"multi_output\",\n",
    "    batch_size=64,\n",
    "    shuffle=True,\n",
    "    seed=True,\n",
    "    save_to_dir=None,\n",
    "    save_prefix=\"\",\n",
    "    save_format=\"png\",\n",
    "    subset=None,\n",
    "    interpolation=\"nearest\",\n",
    "    validate_filenames=True,\n",
    ")"
   ]
  },
  {
   "cell_type": "code",
   "execution_count": 31,
   "metadata": {},
   "outputs": [
    {
     "name": "stderr",
     "output_type": "stream",
     "text": [
      " 56%|█████▋    | 18/32 [00:28<00:19,  1.43s/it]/kuacc/users/shamdan17/.conda/envs/cv/lib/python3.8/site-packages/PIL/TiffImagePlugin.py:792: UserWarning: Corrupt EXIF data.  Expecting to read 4 bytes but only got 0. \n",
      "  warnings.warn(str(msg))\n",
      "100%|██████████| 32/32 [00:51<00:00,  1.61s/it]\n"
     ]
    },
    {
     "data": {
      "text/plain": [
       "(0.09458364506874781, 0.32597322197714357)"
      ]
     },
     "execution_count": 31,
     "metadata": {},
     "output_type": "execute_result"
    }
   ],
   "source": [
    "imgen.reset()\n",
    "\n",
    "nbatches = 0\n",
    "imap = 0\n",
    "pmap = 0\n",
    "\n",
    "for x, y in tqdm(imgen):\n",
    "    \n",
    "    y1 = y[0]\n",
    "    y2 = y[1]\n",
    "\n",
    "    out = mdl.predict(x)\n",
    "    \n",
    "    iout = sigmoid(out[0])\n",
    "    pout = sigmoid(out[1])\n",
    "    \n",
    "    itrue = y1[:,0,:-1]\n",
    "    ptrue = y2[:,0,:-1]\n",
    "    \n",
    "    imap += average_precision_score(itrue, iout)\n",
    "    pmap += average_precision_score(ptrue, pout)\n",
    "    nbatches += 1\n",
    "    \n",
    "    if nbatches > np.ceil(val_df.shape[0] / 64):\n",
    "        break\n",
    "    \n",
    "pmap.item() / nbatches, imap.item() / nbatches"
   ]
  },
  {
   "cell_type": "code",
   "execution_count": 37,
   "metadata": {},
   "outputs": [
    {
     "data": {
      "text/plain": [
       "array([ 0,  2,  0,  0, 16, 19, 35,  0, 28,  0, 33,  8, 20, 19,  0,  0,  0,\n",
       "        0,  1,  0, 10,  0,  0,  0,  0,  6, 26,  0,  0,  0,  0, 19,  0,  0,\n",
       "        0,  4,  0,  0,  0,  0,  1,  0, 28,  0,  1,  0,  0, 25, 27,  0,  0,\n",
       "        0,  0,  0, 27, 14,  0,  0,  0,  0,  0, 20,  0,  0])"
      ]
     },
     "execution_count": 37,
     "metadata": {},
     "output_type": "execute_result"
    }
   ],
   "source": [
    "np.argmax(itrue, axis=1)"
   ]
  },
  {
   "cell_type": "code",
   "execution_count": 38,
   "metadata": {},
   "outputs": [
    {
     "data": {
      "text/plain": [
       "array([28,  2, 31, 12, 16, 19, 35, 31, 28, 30, 33,  8, 20,  9, 34, 31, 11,\n",
       "       11,  1,  0, 10,  1,  5,  9,  5,  6, 26,  7,  9, 39, 37, 19, 28,  1,\n",
       "       23,  4, 20, 13, 11, 12,  1,  7, 27, 24,  1, 28, 27, 25, 27, 20,  2,\n",
       "       19, 26,  9, 27, 14,  5, 19,  0, 34,  6, 20,  5, 32])"
      ]
     },
     "execution_count": 38,
     "metadata": {},
     "output_type": "execute_result"
    }
   ],
   "source": [
    "np.argmax(iout, axis=1)"
   ]
  },
  {
   "cell_type": "code",
   "execution_count": 50,
   "metadata": {},
   "outputs": [
    {
     "data": {
      "text/plain": [
       "array([0., 1., 0., 0., 1., 1., 1., 0., 1., 0., 1., 1., 1., 1., 0., 0., 0.,\n",
       "       0., 1., 0., 1., 0., 0., 0., 0., 1., 1., 0., 0., 0., 0., 1., 0., 0.,\n",
       "       0., 1., 0., 0., 0., 0., 1., 0., 1., 0., 1., 0., 0., 1., 1., 0., 0.,\n",
       "       0., 0., 1., 1., 1., 0., 0., 0., 0., 0., 1., 0., 0.], dtype=float32)"
      ]
     },
     "execution_count": 50,
     "metadata": {},
     "output_type": "execute_result"
    }
   ],
   "source": [
    "np.sum(itrue, axis=1)"
   ]
  },
  {
   "cell_type": "code",
   "execution_count": 51,
   "metadata": {},
   "outputs": [
    {
     "data": {
      "text/plain": [
       "array([1., 0., 0., 0., 0., 0., 0., 0., 0., 0., 0., 0., 0., 0., 0., 0., 0.,\n",
       "       0., 0., 0., 0., 0., 0., 0., 0., 0., 0., 0., 0., 0., 0., 0., 0., 0.,\n",
       "       0., 0., 0., 0., 0., 0., 0., 0., 0.], dtype=float32)"
      ]
     },
     "execution_count": 51,
     "metadata": {},
     "output_type": "execute_result"
    }
   ],
   "source": [
    "itrue[-11,:]"
   ]
  },
  {
   "cell_type": "code",
   "execution_count": 52,
   "metadata": {},
   "outputs": [
    {
     "data": {
      "text/plain": [
       "array([7.8323577e-03, 1.6026037e-03, 1.7557660e-02, 7.3732279e-04,\n",
       "       2.9460841e-03, 5.5602047e-04, 6.5967061e-02, 1.9446540e-01,\n",
       "       2.5903197e-02, 4.8334238e-01, 1.1569914e-04, 1.9244132e-04,\n",
       "       9.0257805e-03, 6.8710232e-04, 4.2367685e-03, 7.4228289e-04,\n",
       "       5.1610247e-04, 7.5694692e-04, 3.0503513e-03, 2.4045019e-03,\n",
       "       2.5017953e-05, 6.4356536e-05, 1.8595252e-06, 2.0883859e-05,\n",
       "       8.2792780e-05, 1.1010447e-04, 5.8081484e-04, 3.6724824e-03,\n",
       "       2.9840881e-05, 7.4788538e-04, 2.2584569e-02, 5.0150946e-04,\n",
       "       4.2383707e-04, 5.4173637e-04, 1.8666338e-05, 4.3027550e-05,\n",
       "       1.2629124e-05, 3.4202083e-05, 4.0687784e-05, 2.9055998e-05,\n",
       "       6.0458813e-05, 3.7572230e-03, 1.6195729e-02], dtype=float32)"
      ]
     },
     "execution_count": 52,
     "metadata": {},
     "output_type": "execute_result"
    }
   ],
   "source": [
    "iout[-11, :]"
   ]
  },
  {
   "cell_type": "code",
   "execution_count": 47,
   "metadata": {},
   "outputs": [
    {
     "data": {
      "text/plain": [
       "(64, 43)"
      ]
     },
     "execution_count": 47,
     "metadata": {},
     "output_type": "execute_result"
    }
   ],
   "source": [
    "itrue.shape"
   ]
  },
  {
   "cell_type": "code",
   "execution_count": null,
   "metadata": {},
   "outputs": [],
   "source": []
  }
 ],
 "metadata": {
  "kernelspec": {
   "display_name": "Python 3",
   "language": "python",
   "name": "python3"
  }
 },
 "nbformat": 4,
 "nbformat_minor": 4
}

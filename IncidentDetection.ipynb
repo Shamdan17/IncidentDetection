{
 "cells": [
  {
   "cell_type": "code",
   "execution_count": 1,
   "metadata": {},
   "outputs": [],
   "source": [
    "from tensorflow import keras\n",
    "import json\n",
    "import os\n",
    "from tqdm import tqdm\n",
    "import pandas as pd\n",
    "import numpy as np\n",
    "import dataset\n",
    "from util import (\n",
    "    get_place_to_index_mapping,\n",
    "    get_incident_to_index_mapping\n",
    ")\n",
    "from keras.applications.resnet50 import ResNet50\n",
    "from keras.layers import Dense, Flatten\n",
    "from keras import Sequential\n",
    "import keras.backend as kb\n",
    "from keras.preprocessing.image import ImageDataGenerator\n",
    "import tensorflow as tf\n",
    "import PIL"
   ]
  },
  {
   "cell_type": "code",
   "execution_count": 2,
   "metadata": {},
   "outputs": [],
   "source": [
    "abs_path = \"/kuacc/users/asafaya19/cv-project\"\n",
    "train_json = os.path.join(abs_path ,\"eccv_train.json\")\n",
    "val_json = os.path.join(abs_path ,\"eccv_val.json\")\n",
    "data_dir = os.path.join(abs_path, \"data\")\n",
    "train_dir = os.path.join(data_dir, \"train\")\n",
    "val_dir = os.path.join(data_dir, \"val\")"
   ]
  },
  {
   "cell_type": "code",
   "execution_count": 3,
   "metadata": {},
   "outputs": [],
   "source": [
    "train_paths = json.loads(open(train_json).readline())\n",
    "val_paths = json.loads(open(val_json).readline())"
   ]
  },
  {
   "cell_type": "code",
   "execution_count": 4,
   "metadata": {},
   "outputs": [],
   "source": [
    "place_to_idx = get_place_to_index_mapping()\n",
    "incident_to_idx = get_incident_to_index_mapping()"
   ]
  },
  {
   "cell_type": "code",
   "execution_count": 6,
   "metadata": {},
   "outputs": [],
   "source": [
    "def get_dataset(paths,file_dir, threshold=1000):\n",
    "    train_set = []\n",
    "    for path in tqdm(paths, leave=False):\n",
    "    #     print(path)\n",
    "        if not os.path.exists(os.path.join(file_dir, path)):\n",
    "            continue\n",
    "        # Make sure image is not corrupt, try importing it\n",
    "        try:\n",
    "            PIL.Image.open(os.path.join(file_dir, path))\n",
    "        except:\n",
    "            continue\n",
    "        nump = len(place_to_idx)+1\n",
    "        numi = len(incident_to_idx)+1\n",
    "        place_labels = np.zeros(nump, np.float32)\n",
    "        place_weights = np.zeros(nump, np.float32)\n",
    "        incident_labels = np.zeros(numi, np.float32)\n",
    "        incident_weights = np.zeros(numi, np.float32)\n",
    "\n",
    "        incidents = paths[path][\"incidents\"]\n",
    "        for k in incidents:\n",
    "            lbl = incidents[k]\n",
    "            if lbl==1:\n",
    "                # We are sure this instance is only this incident\n",
    "                incident_labels[incident_to_idx[k]]=1\n",
    "                incident_weights = np.ones(numi, np.float32)\n",
    "            else:\n",
    "                # We are only sure that this image is not that incident\n",
    "                incident_weights[incident_to_idx[k]]=1\n",
    "        if len(incidents)==0:\n",
    "            # No incident\n",
    "            incident_labels[-1]=1\n",
    "            incident_weights = np.ones(numi, np.float32)\n",
    "\n",
    "        places = paths[path][\"places\"]\n",
    "        for k in places:\n",
    "            lbl = places[k]\n",
    "            if lbl==1:\n",
    "                # We are sure this instance is only this incident\n",
    "                place_labels[place_to_idx[k]]=1\n",
    "                place_weights = np.ones(nump, np.float32)\n",
    "            else:\n",
    "                # We are only sure that this image is not that incident\n",
    "                place_weights[place_to_idx[k]]=1\n",
    "        if len(places)==0:\n",
    "            # No place\n",
    "            place_labels[-1]=1\n",
    "            place_weights = np.ones(nump, np.float32)\n",
    "\n",
    "\n",
    "        train_set.append({\n",
    "            \"path\":path,\n",
    "            \"incident_labels\":incident_labels,\n",
    "            \"incident_weights\":incident_weights,\n",
    "            \"incidents\":np.vstack((incident_labels, incident_weights)),\n",
    "            \"place_labels\":place_labels,\n",
    "            \"place_weights\":place_weights,\n",
    "            \"place\":np.vstack((place_labels, place_weights))\n",
    "        })\n",
    "        if len(train_set)>=threshold:\n",
    "            break\n",
    "    return train_set"
   ]
  },
  {
   "cell_type": "code",
   "execution_count": 7,
   "metadata": {},
   "outputs": [
    {
     "name": "stderr",
     "output_type": "stream",
     "text": [
      "                                                        \r"
     ]
    }
   ],
   "source": [
    "train_set = get_dataset(train_paths, train_dir, 1000)\n",
    "val_set = get_dataset(val_paths, val_dir, 1000)"
   ]
  },
  {
   "cell_type": "code",
   "execution_count": 8,
   "metadata": {},
   "outputs": [],
   "source": [
    "train_df = pd.DataFrame(train_set)\n",
    "val_df = pd.DataFrame(val_set)"
   ]
  },
  {
   "cell_type": "code",
   "execution_count": 218,
   "metadata": {},
   "outputs": [],
   "source": [
    "?ImageDataGenerator"
   ]
  },
  {
   "cell_type": "code",
   "execution_count": 234,
   "metadata": {},
   "outputs": [],
   "source": [
    "?keras.layers.experimental.preprocessing.RandomCrop"
   ]
  },
  {
   "cell_type": "code",
   "execution_count": 9,
   "metadata": {},
   "outputs": [],
   "source": [
    "def getpreprocessfunc():\n",
    "    mean = np.asarray([0.485, 0.456, 0.406]).reshape(1, 1, 3).astype(np.float32)\n",
    "    std = np.asarray([0.229, 0.224, 0.225]).reshape(1, 1, 3).astype(np.float32)\n",
    "    def preprocessfunc(img):\n",
    "        img /= 255\n",
    "        img -= mean\n",
    "        img /= std\n",
    "        return img\n",
    "    return preprocessfunc\n"
   ]
  },
  {
   "cell_type": "code",
   "execution_count": 25,
   "metadata": {},
   "outputs": [
    {
     "name": "stdout",
     "output_type": "stream",
     "text": [
      "Found 1000 validated image filenames.\n"
     ]
    }
   ],
   "source": [
    "imgen = ImageDataGenerator(\n",
    "    horizontal_flip=True,\n",
    "    preprocessing_function=getpreprocessfunc(),\n",
    ")\n",
    "\n",
    "imgen = imgen.flow_from_dataframe(\n",
    "    train_df,\n",
    "    directory=train_dir,\n",
    "    x_col=\"path\",\n",
    "    y_col=[\"incidents\", \"place\"],\n",
    "    weight_col=None,\n",
    "    target_size=(256, 256),\n",
    "    color_mode=\"rgb\",\n",
    "    classes=None,\n",
    "    class_mode=\"multi_output\",\n",
    "    batch_size=64,\n",
    "    shuffle=False,\n",
    "    seed=True,\n",
    "    save_to_dir=None,\n",
    "    save_prefix=\"\",\n",
    "    save_format=\"png\",\n",
    "    subset=None,\n",
    "    interpolation=\"nearest\",\n",
    "    validate_filenames=True,\n",
    ")"
   ]
  },
  {
   "cell_type": "code",
   "execution_count": 239,
   "metadata": {
    "scrolled": true
   },
   "outputs": [],
   "source": [
    "nxt = next(imgen)"
   ]
  },
  {
   "cell_type": "code",
   "execution_count": 119,
   "metadata": {},
   "outputs": [],
   "source": [
    "a = np.asarray([1, 0, 0, 0, 0, 0]).astype(np.float32)\n",
    "b = np.vstack((a*10, a))#np.asarray([[1, 0, 0, 0, 0, 0], [1, 0, 0, 0, 0]])"
   ]
  },
  {
   "cell_type": "code",
   "execution_count": 121,
   "metadata": {},
   "outputs": [
    {
     "data": {
      "text/plain": [
       "<tf.Tensor: shape=(), dtype=float32, numpy=-0.0>"
      ]
     },
     "execution_count": 121,
     "metadata": {},
     "output_type": "execute_result"
    }
   ],
   "source": [
    "keras.losses.BinaryCrossentropy()(a, a)"
   ]
  },
  {
   "cell_type": "code",
   "execution_count": 120,
   "metadata": {},
   "outputs": [
    {
     "data": {
      "text/plain": [
       "<tf.Tensor: shape=(), dtype=float32, numpy=-0.870167>"
      ]
     },
     "execution_count": 120,
     "metadata": {},
     "output_type": "execute_result"
    }
   ],
   "source": [
    "weighted_loss(b.reshape((1, 2, 6)), a.reshape((1, 6)))"
   ]
  },
  {
   "cell_type": "code",
   "execution_count": 26,
   "metadata": {},
   "outputs": [],
   "source": [
    "inp = keras.Input(shape=(256, 256, 3))"
   ]
  },
  {
   "cell_type": "code",
   "execution_count": 27,
   "metadata": {},
   "outputs": [],
   "source": [
    "cropped = keras.layers.experimental.preprocessing.RandomCrop(224, 224)(inp)"
   ]
  },
  {
   "cell_type": "code",
   "execution_count": 28,
   "metadata": {},
   "outputs": [],
   "source": [
    "model = ResNet50(include_top=False, pooling = \"avg\")(cropped)"
   ]
  },
  {
   "cell_type": "code",
   "execution_count": 29,
   "metadata": {},
   "outputs": [],
   "source": [
    "trunk = Dense(1024, activation=\"relu\", name=\"trunk\")(model)"
   ]
  },
  {
   "cell_type": "code",
   "execution_count": 30,
   "metadata": {},
   "outputs": [],
   "source": [
    "incident_proj = Dense(len(incident_to_idx)+1, name=\"incidents_projection\")(trunk)"
   ]
  },
  {
   "cell_type": "code",
   "execution_count": 31,
   "metadata": {},
   "outputs": [],
   "source": [
    "places_proj = Dense(len(place_to_idx)+1, name=\"places_projection\")(trunk)"
   ]
  },
  {
   "cell_type": "code",
   "execution_count": 40,
   "metadata": {},
   "outputs": [],
   "source": [
    "# Enclosure to retain state\n",
    "def get_weighted_accuracy():\n",
    "    m = keras.metrics.CategoricalAccuracy()\n",
    "    def weighted_accuracy(y_true, y_preds):\n",
    "        y_true = tf.reshape(y_true, (bs, 2, -1))\n",
    "        y_true_lbls = y_true[:,0,:]\n",
    "        return m(y_true_lbls, y_preds)\n",
    "    return weighted_accuracy"
   ]
  },
  {
   "cell_type": "code",
   "execution_count": 41,
   "metadata": {},
   "outputs": [],
   "source": [
    "def weighted_loss(y_true, y_preds):\n",
    "    bce = keras.losses.BinaryCrossentropy(keras.losses.Reduction.NONE)\n",
    "#     tf.print(y_true)\n",
    "#     tf.print(y_preds)\n",
    "#     print(y_true.shape)\n",
    "#     print(y_preds.shape)\n",
    "    bs = y_true.shape[0]\n",
    "    y_true = tf.reshape(y_true, (bs, 2, -1))\n",
    "    y_true_lbls = y_true[:,0,:]\n",
    "    y_true_weights = y_true[:,1,:]\n",
    "    bce_loss = bce(y_true_lbls, y_preds)\n",
    "#     import pdb\n",
    "#     pdb.set_trace()\n",
    "    return bce_loss\n",
    "#     return tf.reduce_sum(tf.multiply(bce_loss, y_true_weights))"
   ]
  },
  {
   "cell_type": "code",
   "execution_count": 42,
   "metadata": {
    "scrolled": true
   },
   "outputs": [],
   "source": [
    "mdl = keras.Model(inputs=inp, outputs=[incident_proj, places_proj])"
   ]
  },
  {
   "cell_type": "code",
   "execution_count": 43,
   "metadata": {},
   "outputs": [],
   "source": [
    "losses = {\n",
    "    \"incidents_projection\": weighted_loss,\n",
    "    \"places_projection\": weighted_loss,\n",
    "}"
   ]
  },
  {
   "cell_type": "code",
   "execution_count": 44,
   "metadata": {},
   "outputs": [],
   "source": [
    "opt = keras.optimizers.Adam(lr=1e-5)"
   ]
  },
  {
   "cell_type": "code",
   "execution_count": 45,
   "metadata": {},
   "outputs": [],
   "source": [
    "mdl.compile(optimizer=opt, loss=losses, metrics=[get_weighted_accuracy()])"
   ]
  },
  {
   "cell_type": "code",
   "execution_count": null,
   "metadata": {},
   "outputs": [
    {
     "name": "stdout",
     "output_type": "stream",
     "text": [
      "{'loss': 0.05775917321443558, 'incidents_projection_loss': 0.030211426317691803, 'places_projection_loss': 0.027547746896743774, 'incidents_projection_weighted_accuracy': 0.140625, 'places_projection_weighted_accuracy': 0.40625} \n",
      "{'loss': 0.06510251015424728, 'incidents_projection_loss': 0.03755028173327446, 'places_projection_loss': 0.027552226558327675, 'incidents_projection_weighted_accuracy': 0.3333333432674408, 'places_projection_weighted_accuracy': 0.40234375} \n",
      "{'loss': 0.05388979613780975, 'incidents_projection_loss': 0.028900669887661934, 'places_projection_loss': 0.02498912811279297, 'incidents_projection_weighted_accuracy': 0.36250001192092896, 'places_projection_weighted_accuracy': 0.4166666567325592} \n",
      "{'loss': 0.0698065534234047, 'incidents_projection_loss': 0.03945020213723183, 'places_projection_loss': 0.030356353148818016, 'incidents_projection_weighted_accuracy': 0.390625, 'places_projection_weighted_accuracy': 0.41796875} \n",
      "{'loss': 0.04725120589137077, 'incidents_projection_loss': 0.026817377656698227, 'places_projection_loss': 0.020433828234672546, 'incidents_projection_weighted_accuracy': 0.3888888955116272, 'places_projection_weighted_accuracy': 0.421875} \n",
      "{'loss': 0.051037728786468506, 'incidents_projection_loss': 0.029149958863854408, 'places_projection_loss': 0.021887771785259247, 'incidents_projection_weighted_accuracy': 0.3963068127632141, 'places_projection_weighted_accuracy': 0.421875} \n",
      "{'loss': 0.05064228177070618, 'incidents_projection_loss': 0.031220603734254837, 'places_projection_loss': 0.01942167803645134, 'incidents_projection_weighted_accuracy': 0.4038461446762085, 'places_projection_weighted_accuracy': 0.4207589328289032} \n",
      "{'loss': 0.06332752108573914, 'incidents_projection_loss': 0.040496692061424255, 'places_projection_loss': 0.02283083274960518, 'incidents_projection_weighted_accuracy': 0.40416666865348816, 'places_projection_weighted_accuracy': 0.4150390625} \n",
      "{'loss': 0.05202563852071762, 'incidents_projection_loss': 0.028031954541802406, 'places_projection_loss': 0.023993683978915215, 'incidents_projection_weighted_accuracy': 0.41165414452552795, 'places_projection_weighted_accuracy': 0.41938406229019165} \n",
      "{'loss': 0.06119625270366669, 'incidents_projection_loss': 0.03244835510849953, 'places_projection_loss': 0.02874789759516716, 'incidents_projection_weighted_accuracy': 0.41523972153663635, 'places_projection_weighted_accuracy': 0.42451298236846924} \n",
      "{'loss': 0.061062198132276535, 'incidents_projection_loss': 0.03418390452861786, 'places_projection_loss': 0.026878293603658676, 'incidents_projection_weighted_accuracy': 0.41126543283462524, 'places_projection_weighted_accuracy': 0.4213235378265381} \n",
      "{'loss': 0.07306670397520065, 'incidents_projection_loss': 0.04232220724225044, 'places_projection_loss': 0.03074449673295021, 'incidents_projection_weighted_accuracy': 0.41292133927345276, 'places_projection_weighted_accuracy': 0.4166666567325592} \n",
      "{'loss': 0.07318197935819626, 'incidents_projection_loss': 0.04302392899990082, 'places_projection_loss': 0.03015804849565029, 'incidents_projection_weighted_accuracy': 0.40979382395744324, 'places_projection_weighted_accuracy': 0.4133663475513458} \n",
      "{'loss': 0.07948923110961914, 'incidents_projection_loss': 0.04523526132106781, 'places_projection_loss': 0.03425396978855133, 'incidents_projection_weighted_accuracy': 0.4059523940086365, 'places_projection_weighted_accuracy': 0.4082568883895874} \n",
      "{'loss': 0.06850138306617737, 'incidents_projection_loss': 0.0420781672000885, 'places_projection_loss': 0.026423219591379166, 'incidents_projection_weighted_accuracy': 0.40431416034698486, 'places_projection_weighted_accuracy': 0.4065170884132385} \n",
      "{'loss': 0.05676282197237015, 'incidents_projection_loss': 0.030520569533109665, 'places_projection_loss': 0.026242254301905632, 'incidents_projection_weighted_accuracy': 0.3997933864593506, 'places_projection_weighted_accuracy': 0.40799999237060547} \n",
      "{'loss': 0.04730510711669922, 'incidents_projection_loss': 0.024928569793701172, 'places_projection_loss': 0.022376537322998047, 'incidents_projection_weighted_accuracy': 0.40164729952812195, 'places_projection_weighted_accuracy': 0.4107142984867096} \n",
      "{'loss': 0.05592149868607521, 'incidents_projection_loss': 0.03203690052032471, 'places_projection_loss': 0.023884598165750504, 'incidents_projection_weighted_accuracy': 0.40556567907333374, 'places_projection_weighted_accuracy': 0.41134750843048096} \n",
      "{'loss': 0.04724081605672836, 'incidents_projection_loss': 0.02457844652235508, 'places_projection_loss': 0.022662371397018433, 'incidents_projection_weighted_accuracy': 0.4073275923728943, 'places_projection_weighted_accuracy': 0.4148489832878113} \n",
      "{'loss': 0.061697762459516525, 'incidents_projection_loss': 0.035093024373054504, 'places_projection_loss': 0.02660473808646202, 'incidents_projection_weighted_accuracy': 0.41094771027565, 'places_projection_weighted_accuracy': 0.4156050980091095} \n",
      "{'loss': 0.04183441400527954, 'incidents_projection_loss': 0.023841271176934242, 'places_projection_loss': 0.0179931428283453, 'incidents_projection_weighted_accuracy': 0.40954968333244324, 'places_projection_weighted_accuracy': 0.4170454442501068} \n",
      "{'loss': 0.04738113284111023, 'incidents_projection_loss': 0.02667534351348877, 'places_projection_loss': 0.02070578932762146, 'incidents_projection_weighted_accuracy': 0.40976330637931824, 'places_projection_weighted_accuracy': 0.4165462553501129} \n",
      "{'loss': 0.04665558785200119, 'incidents_projection_loss': 0.029513061046600342, 'places_projection_loss': 0.0171425249427557, 'incidents_projection_weighted_accuracy': 0.41207626461982727, 'places_projection_weighted_accuracy': 0.41747236251831055} \n",
      "{'loss': 0.057527050375938416, 'incidents_projection_loss': 0.03712110593914986, 'places_projection_loss': 0.02040594443678856, 'incidents_projection_weighted_accuracy': 0.4124999940395355, 'places_projection_weighted_accuracy': 0.41600528359413147} \n",
      "{'loss': 0.043458420783281326, 'incidents_projection_loss': 0.022787868976593018, 'places_projection_loss': 0.02067055180668831, 'incidents_projection_weighted_accuracy': 0.41449084877967834, 'places_projection_weighted_accuracy': 0.4172036051750183} \n",
      "{'loss': 0.05394973233342171, 'incidents_projection_loss': 0.029001832008361816, 'places_projection_loss': 0.02494790032505989, 'incidents_projection_weighted_accuracy': 0.4157196879386902, 'places_projection_weighted_accuracy': 0.41924506425857544} \n",
      "{'loss': 0.05519206076860428, 'incidents_projection_loss': 0.030294770374894142, 'places_projection_loss': 0.024897292256355286, 'incidents_projection_weighted_accuracy': 0.415351927280426, 'places_projection_weighted_accuracy': 0.4193452298641205} \n",
      "{'loss': 0.06746052205562592, 'incidents_projection_loss': 0.03925462067127228, 'places_projection_loss': 0.02820589952170849, 'incidents_projection_weighted_accuracy': 0.4164719581604004, 'places_projection_weighted_accuracy': 0.41800457239151} \n",
      "{'loss': 0.06617725640535355, 'incidents_projection_loss': 0.03864295780658722, 'places_projection_loss': 0.027534300461411476, 'incidents_projection_weighted_accuracy': 0.41638514399528503, 'places_projection_weighted_accuracy': 0.4178650379180908} \n",
      "{'loss': 0.07248206436634064, 'incidents_projection_loss': 0.04177895188331604, 'places_projection_loss': 0.030703114345669746, 'incidents_projection_weighted_accuracy': 0.41494566202163696, 'places_projection_weighted_accuracy': 0.41586539149284363} \n",
      "{'loss': 0.06263884156942368, 'incidents_projection_loss': 0.03872816264629364, 'places_projection_loss': 0.023910680785775185, 'incidents_projection_weighted_accuracy': 0.4143907427787781, 'places_projection_weighted_accuracy': 0.4152892529964447} \n",
      "{'loss': 0.04948492348194122, 'incidents_projection_loss': 0.02664922922849655, 'places_projection_loss': 0.02283569425344467, 'incidents_projection_weighted_accuracy': 0.41260161995887756, 'places_projection_weighted_accuracy': 0.4165000021457672} \n",
      "{'loss': 0.044276364147663116, 'incidents_projection_loss': 0.023274295032024384, 'places_projection_loss': 0.021002070978283882, 'incidents_projection_weighted_accuracy': 0.4136318862438202, 'places_projection_weighted_accuracy': 0.4178779125213623} \n"
     ]
    },
    {
     "name": "stdout",
     "output_type": "stream",
     "text": [
      "{'loss': 0.05128232389688492, 'incidents_projection_loss': 0.029652312397956848, 'places_projection_loss': 0.02163001336157322, 'incidents_projection_weighted_accuracy': 0.41555342078208923, 'places_projection_weighted_accuracy': 0.41870301961898804} \n",
      "{'loss': 0.043185826390981674, 'incidents_projection_loss': 0.02339712530374527, 'places_projection_loss': 0.019788701087236404, 'incidents_projection_weighted_accuracy': 0.41620370745658875, 'places_projection_weighted_accuracy': 0.42016422748565674} \n",
      "{'loss': 0.05802939832210541, 'incidents_projection_loss': 0.0337715670466423, 'places_projection_loss': 0.024257829412817955, 'incidents_projection_weighted_accuracy': 0.4179406464099884, 'places_projection_weighted_accuracy': 0.4204343855381012} \n",
      "{'loss': 0.03959723562002182, 'incidents_projection_loss': 0.023255547508597374, 'places_projection_loss': 0.016341686248779297, 'incidents_projection_weighted_accuracy': 0.4176136255264282, 'places_projection_weighted_accuracy': 0.4217672348022461} \n",
      "{'loss': 0.042274110019207, 'incidents_projection_loss': 0.025046728551387787, 'places_projection_loss': 0.017227381467819214, 'incidents_projection_weighted_accuracy': 0.4183673560619354, 'places_projection_weighted_accuracy': 0.4221895933151245} \n",
      "{'loss': 0.04282374680042267, 'incidents_projection_loss': 0.027170468121767044, 'places_projection_loss': 0.015653278678655624, 'incidents_projection_weighted_accuracy': 0.4194950461387634, 'places_projection_weighted_accuracy': 0.42238563299179077} \n",
      "{'loss': 0.05345602333545685, 'incidents_projection_loss': 0.035012137144804, 'places_projection_loss': 0.018443886190652847, 'incidents_projection_weighted_accuracy': 0.41975805163383484, 'places_projection_weighted_accuracy': 0.4217754900455475} \n",
      "{'loss': 0.042017657309770584, 'incidents_projection_loss': 0.02183949388563633, 'places_projection_loss': 0.020178163424134254, 'incidents_projection_weighted_accuracy': 0.42120853066444397, 'places_projection_weighted_accuracy': 0.42280563712120056} \n",
      "{'loss': 0.0501970537006855, 'incidents_projection_loss': 0.027916330844163895, 'places_projection_loss': 0.022280722856521606, 'incidents_projection_weighted_accuracy': 0.4220201373100281, 'places_projection_weighted_accuracy': 0.42412078380584717} \n",
      "{'loss': 0.05129610747098923, 'incidents_projection_loss': 0.028488364070653915, 'places_projection_loss': 0.022807743400335312, 'incidents_projection_weighted_accuracy': 0.4218277931213379, 'places_projection_weighted_accuracy': 0.4242537319660187} \n",
      "{'loss': 0.06289786100387573, 'incidents_projection_loss': 0.036631375551223755, 'places_projection_loss': 0.02626648172736168, 'incidents_projection_weighted_accuracy': 0.42256638407707214, 'places_projection_weighted_accuracy': 0.4234693944454193} \n",
      "{'loss': 0.06334520131349564, 'incidents_projection_loss': 0.037944141775369644, 'places_projection_loss': 0.02540106140077114, 'incidents_projection_weighted_accuracy': 0.4220100939273834, 'places_projection_weighted_accuracy': 0.4228988587856293} \n",
      "{'loss': 0.06789962947368622, 'incidents_projection_loss': 0.03841438889503479, 'places_projection_loss': 0.029485240578651428, 'incidents_projection_weighted_accuracy': 0.42165493965148926, 'places_projection_weighted_accuracy': 0.4223537743091583} \n",
      "{'loss': 0.05923919379711151, 'incidents_projection_loss': 0.03634043410420418, 'places_projection_loss': 0.022898759692907333, 'incidents_projection_weighted_accuracy': 0.42148759961128235, 'places_projection_weighted_accuracy': 0.42217302322387695} \n",
      "{'loss': 0.0475146546959877, 'incidents_projection_loss': 0.025518223643302917, 'places_projection_loss': 0.021996429190039635, 'incidents_projection_weighted_accuracy': 0.4203167259693146, 'places_projection_weighted_accuracy': 0.42283332347869873} \n",
      "{'loss': 0.04036581143736839, 'incidents_projection_loss': 0.021701861172914505, 'places_projection_loss': 0.018663950264453888, 'incidents_projection_weighted_accuracy': 0.42117413878440857, 'places_projection_weighted_accuracy': 0.42395561933517456} \n",
      "{'loss': 0.04821813106536865, 'incidents_projection_loss': 0.027909357100725174, 'places_projection_loss': 0.02030877210199833, 'incidents_projection_weighted_accuracy': 0.42248061299324036, 'places_projection_weighted_accuracy': 0.42471227049827576} \n",
      "{'loss': 0.041608776897192, 'incidents_projection_loss': 0.022276347503066063, 'places_projection_loss': 0.01933242939412594, 'incidents_projection_weighted_accuracy': 0.42294302582740784, 'places_projection_weighted_accuracy': 0.425595223903656} \n",
      "{'loss': 0.05361608415842056, 'incidents_projection_loss': 0.03087632730603218, 'places_projection_loss': 0.02273975871503353, 'incidents_projection_weighted_accuracy': 0.4238523542881012, 'places_projection_weighted_accuracy': 0.4256756901741028} \n",
      "{'loss': 0.03687479346990585, 'incidents_projection_loss': 0.021302111446857452, 'places_projection_loss': 0.015572681091725826, 'incidents_projection_weighted_accuracy': 0.4238138794898987, 'places_projection_weighted_accuracy': 0.4266566336154938} \n",
      "{'loss': 0.03956829011440277, 'incidents_projection_loss': 0.023005595430731773, 'places_projection_loss': 0.01656269282102585, 'incidents_projection_weighted_accuracy': 0.4242243468761444, 'places_projection_weighted_accuracy': 0.4270094633102417} \n",
      "{'loss': 0.03798645734786987, 'incidents_projection_loss': 0.024097170680761337, 'places_projection_loss': 0.013889286667108536, 'incidents_projection_weighted_accuracy': 0.425790399312973, 'places_projection_weighted_accuracy': 0.4277842342853546} \n",
      "{'loss': 0.04865068942308426, 'incidents_projection_loss': 0.032444167882204056, 'places_projection_loss': 0.016206519678235054, 'incidents_projection_weighted_accuracy': 0.4261494278907776, 'places_projection_weighted_accuracy': 0.42753416299819946} \n",
      "{'loss': 0.03677591308951378, 'incidents_projection_loss': 0.01918024942278862, 'places_projection_loss': 0.01759566366672516, 'incidents_projection_weighted_accuracy': 0.4272367060184479, 'places_projection_weighted_accuracy': 0.4283502399921417} \n",
      "{'loss': 0.049285296350717545, 'incidents_projection_loss': 0.02773229405283928, 'places_projection_loss': 0.021553002297878265, 'incidents_projection_weighted_accuracy': 0.4280133843421936, 'places_projection_weighted_accuracy': 0.42948007583618164} \n",
      "{'loss': 0.047544077038764954, 'incidents_projection_loss': 0.02662515640258789, 'places_projection_loss': 0.020918920636177063, 'incidents_projection_weighted_accuracy': 0.42790570855140686, 'places_projection_weighted_accuracy': 0.42975544929504395} \n",
      "{'loss': 0.060125682502985, 'incidents_projection_loss': 0.03513623774051666, 'places_projection_loss': 0.024989444762468338, 'incidents_projection_weighted_accuracy': 0.4286099076271057, 'places_projection_weighted_accuracy': 0.4292200803756714} \n",
      "{'loss': 0.05927450954914093, 'incidents_projection_loss': 0.03455715253949165, 'places_projection_loss': 0.024717357009649277, 'incidents_projection_weighted_accuracy': 0.42862817645072937, 'places_projection_weighted_accuracy': 0.42922794818878174} \n",
      "{'loss': 0.06456013023853302, 'incidents_projection_loss': 0.03622649982571602, 'places_projection_loss': 0.028333630412817, 'incidents_projection_weighted_accuracy': 0.4286458194255829, 'places_projection_weighted_accuracy': 0.4291064143180847} \n",
      "{'loss': 0.055131882429122925, 'incidents_projection_loss': 0.033908236771821976, 'places_projection_loss': 0.02122364565730095, 'incidents_projection_weighted_accuracy': 0.42879098653793335, 'places_projection_weighted_accuracy': 0.4291158616542816} \n",
      "{'loss': 0.04409629479050636, 'incidents_projection_loss': 0.023614879697561264, 'places_projection_loss': 0.0204814150929451, 'incidents_projection_weighted_accuracy': 0.4276713728904724, 'places_projection_weighted_accuracy': 0.429749995470047} \n",
      "{'loss': 0.03796182572841644, 'incidents_projection_loss': 0.02032841369509697, 'places_projection_loss': 0.017633412033319473, 'incidents_projection_weighted_accuracy': 0.428447425365448, 'places_projection_weighted_accuracy': 0.4306102395057678} \n",
      "{'loss': 0.04513124004006386, 'incidents_projection_loss': 0.025573555380105972, 'places_projection_loss': 0.019557684659957886, 'incidents_projection_weighted_accuracy': 0.4295654296875, 'places_projection_weighted_accuracy': 0.4310804307460785} \n"
     ]
    },
    {
     "name": "stdout",
     "output_type": "stream",
     "text": [
      "{'loss': 0.038009416311979294, 'incidents_projection_loss': 0.02022455632686615, 'places_projection_loss': 0.017784859985113144, 'incidents_projection_weighted_accuracy': 0.4296875, 'places_projection_weighted_accuracy': 0.43165552616119385} \n",
      "{'loss': 0.052212752401828766, 'incidents_projection_loss': 0.030914824455976486, 'places_projection_loss': 0.02129792980849743, 'incidents_projection_weighted_accuracy': 0.4301609992980957, 'places_projection_weighted_accuracy': 0.43150845170021057} \n",
      "{'loss': 0.03409624472260475, 'incidents_projection_loss': 0.019989196211099625, 'places_projection_loss': 0.014107048511505127, 'incidents_projection_weighted_accuracy': 0.43003731966018677, 'places_projection_weighted_accuracy': 0.4321759343147278} \n",
      "{'loss': 0.036930594593286514, 'incidents_projection_loss': 0.021614477038383484, 'places_projection_loss': 0.01531611755490303, 'incidents_projection_weighted_accuracy': 0.4302619397640228, 'places_projection_weighted_accuracy': 0.4324817657470703} \n",
      "{'loss': 0.036854878067970276, 'incidents_projection_loss': 0.023415137082338333, 'places_projection_loss': 0.013439740985631943, 'incidents_projection_weighted_accuracy': 0.4312726557254791, 'places_projection_weighted_accuracy': 0.4327787756919861} \n",
      "{'loss': 0.0458684116601944, 'incidents_projection_loss': 0.030476847663521767, 'places_projection_loss': 0.015391562134027481, 'incidents_projection_weighted_accuracy': 0.43169641494750977, 'places_projection_weighted_accuracy': 0.4327349364757538} \n",
      "{'loss': 0.032862842082977295, 'incidents_projection_loss': 0.017030706629157066, 'places_projection_loss': 0.015832137316465378, 'incidents_projection_weighted_accuracy': 0.432480126619339, 'places_projection_weighted_accuracy': 0.43343585729599} \n",
      "{'loss': 0.0445670485496521, 'incidents_projection_loss': 0.02428785152733326, 'places_projection_loss': 0.02027919888496399, 'incidents_projection_weighted_accuracy': 0.4330279231071472, 'places_projection_weighted_accuracy': 0.43425044417381287} \n",
      "{'loss': 0.04421734809875488, 'incidents_projection_loss': 0.025046974420547485, 'places_projection_loss': 0.019170375540852547, 'incidents_projection_weighted_accuracy': 0.43330463767051697, 'places_projection_weighted_accuracy': 0.4346153736114502} \n",
      "{'loss': 0.055543795228004456, 'incidents_projection_loss': 0.032396912574768066, 'places_projection_loss': 0.02314688265323639, 'incidents_projection_weighted_accuracy': 0.4338921904563904, 'places_projection_weighted_accuracy': 0.43433812260627747} \n",
      "{'loss': 0.05517571419477463, 'incidents_projection_loss': 0.03200352564454079, 'places_projection_loss': 0.02317218855023384, 'incidents_projection_weighted_accuracy': 0.43435928225517273, 'places_projection_weighted_accuracy': 0.43479618430137634} \n",
      "{'loss': 0.0610419400036335, 'incidents_projection_loss': 0.03450142592191696, 'places_projection_loss': 0.026540514081716537, 'incidents_projection_weighted_accuracy': 0.4342975318431854, 'places_projection_weighted_accuracy': 0.43462643027305603} \n",
      "{'loss': 0.04859437048435211, 'incidents_projection_loss': 0.029894839972257614, 'places_projection_loss': 0.018699530512094498, 'incidents_projection_weighted_accuracy': 0.4346451759338379, 'places_projection_weighted_accuracy': 0.4348662793636322} \n",
      "{'loss': 0.04021686688065529, 'incidents_projection_loss': 0.02145523950457573, 'places_projection_loss': 0.01876162737607956, 'incidents_projection_weighted_accuracy': 0.4337761700153351, 'places_projection_weighted_accuracy': 0.43540000915527344} \n",
      "{'loss': 0.03428840637207031, 'incidents_projection_loss': 0.018896164372563362, 'places_projection_loss': 0.015392240136861801, 'incidents_projection_weighted_accuracy': 0.43451908230781555, 'places_projection_weighted_accuracy': 0.4364139139652252} \n",
      "{'loss': 0.04125384986400604, 'incidents_projection_loss': 0.02350154146552086, 'places_projection_loss': 0.017752308398485184, 'incidents_projection_weighted_accuracy': 0.4356358051300049, 'places_projection_weighted_accuracy': 0.4370124936103821} \n",
      "{'loss': 0.03485050052404404, 'incidents_projection_loss': 0.01854315586388111, 'places_projection_loss': 0.016307342797517776, 'incidents_projection_weighted_accuracy': 0.43585270643234253, 'places_projection_weighted_accuracy': 0.43740370869636536} \n",
      "{'loss': 0.052280671894550323, 'incidents_projection_loss': 0.0306733176112175, 'places_projection_loss': 0.021607354283332825, 'incidents_projection_weighted_accuracy': 0.4362557530403137, 'places_projection_weighted_accuracy': 0.4374048709869385} \n",
      "{'loss': 0.03135385736823082, 'incidents_projection_loss': 0.018535632640123367, 'places_projection_loss': 0.012818224728107452, 'incidents_projection_weighted_accuracy': 0.4360817074775696, 'places_projection_weighted_accuracy': 0.43778195977211} \n",
      "{'loss': 0.03400462120771408, 'incidents_projection_loss': 0.019697122275829315, 'places_projection_loss': 0.01430749986320734, 'incidents_projection_weighted_accuracy': 0.43637892603874207, 'places_projection_weighted_accuracy': 0.4381500780582428} \n",
      "{'loss': 0.032128751277923584, 'incidents_projection_loss': 0.020329665392637253, 'places_projection_loss': 0.01179908774793148, 'incidents_projection_weighted_accuracy': 0.4375, 'places_projection_weighted_accuracy': 0.438693106174469} \n",
      "{'loss': 0.0427623949944973, 'incidents_projection_loss': 0.02826085314154625, 'places_projection_loss': 0.014501540921628475, 'incidents_projection_weighted_accuracy': 0.4380474388599396, 'places_projection_weighted_accuracy': 0.4388606548309326} \n",
      "{'loss': 0.03086687996983528, 'incidents_projection_loss': 0.016026077792048454, 'places_projection_loss': 0.014840802177786827, 'incidents_projection_weighted_accuracy': 0.43862977623939514, 'places_projection_weighted_accuracy': 0.439481258392334} \n",
      "{'loss': 0.04024960845708847, 'incidents_projection_loss': 0.022820547223091125, 'places_projection_loss': 0.017429063096642494, 'incidents_projection_weighted_accuracy': 0.439201295375824, 'places_projection_weighted_accuracy': 0.4400818943977356} \n",
      "{'loss': 0.04186132177710533, 'incidents_projection_loss': 0.023508742451667786, 'places_projection_loss': 0.018352579325437546, 'incidents_projection_weighted_accuracy': 0.43935906887054443, 'places_projection_weighted_accuracy': 0.4406690001487732} \n",
      "{'loss': 0.05093426629900932, 'incidents_projection_loss': 0.029095936566591263, 'places_projection_loss': 0.02183832973241806, 'incidents_projection_weighted_accuracy': 0.44012606143951416, 'places_projection_weighted_accuracy': 0.44045960903167725} \n",
      "{'loss': 0.05065752565860748, 'incidents_projection_loss': 0.029787344858050346, 'places_projection_loss': 0.020870182663202286, 'incidents_projection_weighted_accuracy': 0.4402700960636139, 'places_projection_weighted_accuracy': 0.4405991733074188} \n",
      "{'loss': 0.05453861132264137, 'incidents_projection_loss': 0.030930830165743828, 'places_projection_loss': 0.023607781156897545, 'incidents_projection_weighted_accuracy': 0.4403253495693207, 'places_projection_weighted_accuracy': 0.44073569774627686} \n",
      "{'loss': 0.04878673702478409, 'incidents_projection_loss': 0.029253825545310974, 'places_projection_loss': 0.019532913342118263, 'incidents_projection_weighted_accuracy': 0.4409722089767456, 'places_projection_weighted_accuracy': 0.4412061870098114} \n",
      "{'loss': 0.038654595613479614, 'incidents_projection_loss': 0.020530080422759056, 'places_projection_loss': 0.01812451332807541, 'incidents_projection_weighted_accuracy': 0.4402647316455841, 'places_projection_weighted_accuracy': 0.4415833353996277} \n",
      "{'loss': 0.0334804430603981, 'incidents_projection_loss': 0.017858989536762238, 'places_projection_loss': 0.015621451660990715, 'incidents_projection_weighted_accuracy': 0.44081565737724304, 'places_projection_weighted_accuracy': 0.4422823190689087} \n",
      "{'loss': 0.03754815459251404, 'incidents_projection_loss': 0.02144004963338375, 'places_projection_loss': 0.016108104959130287, 'incidents_projection_weighted_accuracy': 0.441601037979126, 'places_projection_weighted_accuracy': 0.4426403343677521} \n",
      "{'loss': 0.03489911928772926, 'incidents_projection_loss': 0.018722642213106155, 'places_projection_loss': 0.016176477074623108, 'incidents_projection_weighted_accuracy': 0.44172078371047974, 'places_projection_weighted_accuracy': 0.4429909586906433} \n"
     ]
    },
    {
     "name": "stdout",
     "output_type": "stream",
     "text": [
      "{'loss': 0.04664388298988342, 'incidents_projection_loss': 0.02702883817255497, 'places_projection_loss': 0.019615046679973602, 'incidents_projection_weighted_accuracy': 0.4423200488090515, 'places_projection_weighted_accuracy': 0.4431745409965515} \n",
      "{'loss': 0.02882087230682373, 'incidents_projection_loss': 0.016901463270187378, 'places_projection_loss': 0.011919409036636353, 'incidents_projection_weighted_accuracy': 0.442191481590271, 'places_projection_weighted_accuracy': 0.44359177350997925} \n",
      "{'loss': 0.03209936246275902, 'incidents_projection_loss': 0.019453998655080795, 'places_projection_loss': 0.012645363807678223, 'incidents_projection_weighted_accuracy': 0.4423016309738159, 'places_projection_weighted_accuracy': 0.44376567006111145} \n",
      "{'loss': 0.03023730218410492, 'incidents_projection_loss': 0.01914907805621624, 'places_projection_loss': 0.011088225059211254, 'incidents_projection_weighted_accuracy': 0.44311097264289856, 'places_projection_weighted_accuracy': 0.44416874647140503} \n",
      "{'loss': 0.039982691407203674, 'incidents_projection_loss': 0.026347510516643524, 'places_projection_loss': 0.01363518089056015, 'incidents_projection_weighted_accuracy': 0.443904310464859, 'places_projection_weighted_accuracy': 0.4445638954639435} \n",
      "{'loss': 0.028617018833756447, 'incidents_projection_loss': 0.01439367700368166, 'places_projection_loss': 0.014223339967429638, 'incidents_projection_weighted_accuracy': 0.4443508982658386, 'places_projection_weighted_accuracy': 0.44505494832992554} \n",
      "{'loss': 0.040210142731666565, 'incidents_projection_loss': 0.022564047947525978, 'places_projection_loss': 0.017646096646785736, 'incidents_projection_weighted_accuracy': 0.44479039311408997, 'places_projection_weighted_accuracy': 0.4455108940601349} \n",
      "{'loss': 0.04136223345994949, 'incidents_projection_loss': 0.022570738568902016, 'places_projection_loss': 0.018791496753692627, 'incidents_projection_weighted_accuracy': 0.44487065076828003, 'places_projection_weighted_accuracy': 0.44573354721069336} \n",
      "{'loss': 0.047749392688274384, 'incidents_projection_loss': 0.027414914220571518, 'places_projection_loss': 0.020334480330348015, 'incidents_projection_weighted_accuracy': 0.44532179832458496, 'places_projection_weighted_accuracy': 0.44558125734329224} \n",
      "{'loss': 0.04974589869379997, 'incidents_projection_loss': 0.028883550316095352, 'places_projection_loss': 0.02086234837770462, 'incidents_projection_weighted_accuracy': 0.44539549946784973, 'places_projection_weighted_accuracy': 0.44572561979293823} \n",
      "{'loss': 0.0531378835439682, 'incidents_projection_loss': 0.029868705198168755, 'places_projection_loss': 0.023269176483154297, 'incidents_projection_weighted_accuracy': 0.44539472460746765, 'places_projection_weighted_accuracy': 0.44564899802207947} \n",
      "{'loss': 0.04195673391222954, 'incidents_projection_loss': 0.02559536322951317, 'places_projection_loss': 0.01636137068271637, 'incidents_projection_weighted_accuracy': 0.44575607776641846, 'places_projection_weighted_accuracy': 0.4459342658519745} \n",
      "{'loss': 0.034510429948568344, 'incidents_projection_loss': 0.018090762197971344, 'places_projection_loss': 0.016419667750597, 'incidents_projection_weighted_accuracy': 0.4452497065067291, 'places_projection_weighted_accuracy': 0.4463571310043335} \n",
      "{'loss': 0.030453404411673546, 'incidents_projection_loss': 0.016213398426771164, 'places_projection_loss': 0.014240005984902382, 'incidents_projection_weighted_accuracy': 0.44567689299583435, 'places_projection_weighted_accuracy': 0.4469847083091736} \n",
      "{'loss': 0.03562549129128456, 'incidents_projection_loss': 0.020184312015771866, 'places_projection_loss': 0.015441179275512695, 'incidents_projection_weighted_accuracy': 0.446378231048584, 'places_projection_weighted_accuracy': 0.44732043147087097} \n",
      "{'loss': 0.031652309000492096, 'incidents_projection_loss': 0.01669510267674923, 'places_projection_loss': 0.014957204461097717, 'incidents_projection_weighted_accuracy': 0.4465782046318054, 'places_projection_weighted_accuracy': 0.4477892220020294} \n",
      "{'loss': 0.04312045872211456, 'incidents_projection_loss': 0.02517038583755493, 'places_projection_loss': 0.017950071021914482, 'incidents_projection_weighted_accuracy': 0.4472591280937195, 'places_projection_weighted_accuracy': 0.44804298877716064} \n",
      "{'loss': 0.028733545914292336, 'incidents_projection_loss': 0.017058679834008217, 'places_projection_loss': 0.011674866080284119, 'incidents_projection_weighted_accuracy': 0.4471048414707184, 'places_projection_weighted_accuracy': 0.4482923448085785} \n",
      "{'loss': 0.031080033630132675, 'incidents_projection_loss': 0.018470168113708496, 'places_projection_loss': 0.012609865516424179, 'incidents_projection_weighted_accuracy': 0.4472252428531647, 'places_projection_weighted_accuracy': 0.4484696686267853} \n",
      "{'loss': 0.02754269726574421, 'incidents_projection_loss': 0.017147468402981758, 'places_projection_loss': 0.010395228862762451, 'incidents_projection_weighted_accuracy': 0.4479503631591797, 'places_projection_weighted_accuracy': 0.4487781822681427} \n",
      "{'loss': 0.03636084869503975, 'incidents_projection_loss': 0.02431684546172619, 'places_projection_loss': 0.012044002301990986, 'incidents_projection_weighted_accuracy': 0.448462575674057, 'places_projection_weighted_accuracy': 0.44901490211486816} \n",
      "{'loss': 0.026209235191345215, 'incidents_projection_loss': 0.013567240908741951, 'places_projection_loss': 0.01264199335128069, 'incidents_projection_weighted_accuracy': 0.4488183856010437, 'places_projection_weighted_accuracy': 0.4495497941970825} \n",
      "{'loss': 0.0358286127448082, 'incidents_projection_loss': 0.019754506647586823, 'places_projection_loss': 0.016074107959866524, 'incidents_projection_weighted_accuracy': 0.4492352306842804, 'places_projection_weighted_accuracy': 0.4498424232006073} \n",
      "{'loss': 0.03766816109418869, 'incidents_projection_loss': 0.02147424966096878, 'places_projection_loss': 0.01619390957057476, 'incidents_projection_weighted_accuracy': 0.44933316111564636, 'places_projection_weighted_accuracy': 0.4501953125} \n",
      "{'loss': 0.04492558538913727, 'incidents_projection_loss': 0.02581922337412834, 'places_projection_loss': 0.019106362015008926, 'incidents_projection_weighted_accuracy': 0.4498833119869232, 'places_projection_weighted_accuracy': 0.4500903785228729} \n",
      "{'loss': 0.04617045447230339, 'incidents_projection_loss': 0.027092423290014267, 'places_projection_loss': 0.019078031182289124, 'incidents_projection_weighted_accuracy': 0.4499099850654602, 'places_projection_weighted_accuracy': 0.45024335384368896} \n",
      "{'loss': 0.04947185888886452, 'incidents_projection_loss': 0.02741827443242073, 'places_projection_loss': 0.022053584456443787, 'incidents_projection_weighted_accuracy': 0.45019131898880005, 'places_projection_weighted_accuracy': 0.45045730471611023} \n",
      "{'loss': 0.04154980555176735, 'incidents_projection_loss': 0.02525949478149414, 'places_projection_loss': 0.01629031077027321, 'incidents_projection_weighted_accuracy': 0.45053136348724365, 'places_projection_weighted_accuracy': 0.4506678283214569} \n",
      "{'loss': 0.03292755037546158, 'incidents_projection_loss': 0.017180167138576508, 'places_projection_loss': 0.01574738323688507, 'incidents_projection_weighted_accuracy': 0.4501129388809204, 'places_projection_weighted_accuracy': 0.45112499594688416} \n",
      "{'loss': 0.029080262407660484, 'incidents_projection_loss': 0.015627119690179825, 'places_projection_loss': 0.01345314271748066, 'incidents_projection_weighted_accuracy': 0.4505726993083954, 'places_projection_weighted_accuracy': 0.4517609179019928} \n",
      "{'loss': 0.03204238414764404, 'incidents_projection_loss': 0.01814463548362255, 'places_projection_loss': 0.013897750526666641, 'incidents_projection_weighted_accuracy': 0.45127221941947937, 'places_projection_weighted_accuracy': 0.45207923650741577} \n",
      "{'loss': 0.029218312352895737, 'incidents_projection_loss': 0.01544896513223648, 'places_projection_loss': 0.013769346289336681, 'incidents_projection_weighted_accuracy': 0.45140931010246277, 'places_projection_weighted_accuracy': 0.45245361328125} \n",
      "{'loss': 0.039474453777074814, 'incidents_projection_loss': 0.023191962391138077, 'places_projection_loss': 0.016282491385936737, 'incidents_projection_weighted_accuracy': 0.45209142565727234, 'places_projection_weighted_accuracy': 0.45282217860221863} \n"
     ]
    },
    {
     "name": "stdout",
     "output_type": "stream",
     "text": [
      "{'loss': 0.025403061881661415, 'incidents_projection_loss': 0.014967501163482666, 'places_projection_loss': 0.010435560718178749, 'incidents_projection_weighted_accuracy': 0.45197877287864685, 'places_projection_weighted_accuracy': 0.4530048072338104} \n",
      "{'loss': 0.026303723454475403, 'incidents_projection_loss': 0.015882469713687897, 'places_projection_loss': 0.010421253740787506, 'incidents_projection_weighted_accuracy': 0.4521671533584595, 'places_projection_weighted_accuracy': 0.4533635377883911} \n",
      "{'loss': 0.02745186537504196, 'incidents_projection_loss': 0.01767541840672493, 'places_projection_loss': 0.009776447899639606, 'incidents_projection_weighted_accuracy': 0.4529467821121216, 'places_projection_weighted_accuracy': 0.45371684432029724} \n",
      "{'loss': 0.03492195904254913, 'incidents_projection_loss': 0.0234068650752306, 'places_projection_loss': 0.011515092104673386, 'incidents_projection_weighted_accuracy': 0.45330187678337097, 'places_projection_weighted_accuracy': 0.4537711441516876} \n",
      "{'loss': 0.02490290254354477, 'incidents_projection_loss': 0.012513366527855396, 'places_projection_loss': 0.012389535084366798, 'incidents_projection_weighted_accuracy': 0.45358648896217346, 'places_projection_weighted_accuracy': 0.45427969098091125} \n",
      "{'loss': 0.032511789351701736, 'incidents_projection_loss': 0.018109362572431564, 'places_projection_loss': 0.014402426779270172, 'incidents_projection_weighted_accuracy': 0.4540424048900604, 'places_projection_weighted_accuracy': 0.4546773433685303} \n",
      "{'loss': 0.0346863754093647, 'incidents_projection_loss': 0.01871754787862301, 'places_projection_loss': 0.01596882753074169, 'incidents_projection_weighted_accuracy': 0.4542090594768524, 'places_projection_weighted_accuracy': 0.4550115168094635} \n",
      "{'loss': 0.043655745685100555, 'incidents_projection_loss': 0.024554884061217308, 'places_projection_loss': 0.019100859761238098, 'incidents_projection_weighted_accuracy': 0.45477503538131714, 'places_projection_weighted_accuracy': 0.454940527677536} \n",
      "{'loss': 0.04162520170211792, 'incidents_projection_loss': 0.02408726140856743, 'places_projection_loss': 0.01753794029355049, 'incidents_projection_weighted_accuracy': 0.45493391156196594, 'places_projection_weighted_accuracy': 0.45526793599128723} \n",
      "{'loss': 0.046331845223903656, 'incidents_projection_loss': 0.025849126279354095, 'places_projection_loss': 0.02048272080719471, 'incidents_projection_weighted_accuracy': 0.45526018738746643, 'places_projection_weighted_accuracy': 0.45570334792137146} \n",
      "{'loss': 0.038584865629673004, 'incidents_projection_loss': 0.02298639342188835, 'places_projection_loss': 0.015598473139107227, 'incidents_projection_weighted_accuracy': 0.45586252212524414, 'places_projection_weighted_accuracy': 0.4559646248817444} \n",
      "{'loss': 0.031094709411263466, 'incidents_projection_loss': 0.016105901449918747, 'places_projection_loss': 0.014988807961344719, 'incidents_projection_weighted_accuracy': 0.45545271039009094, 'places_projection_weighted_accuracy': 0.45633333921432495} \n",
      "{'loss': 0.027397122234106064, 'incidents_projection_loss': 0.0141620934009552, 'places_projection_loss': 0.013235027901828289, 'incidents_projection_weighted_accuracy': 0.4557683765888214, 'places_projection_weighted_accuracy': 0.45664167404174805} \n"
     ]
    }
   ],
   "source": [
    "# itr = tqdm(imgen)\n",
    "for x, y in imgen:\n",
    "#     print(type(x), type(y))\n",
    "    y1 = y[0]\n",
    "    y2 = y[1]\n",
    "    bs = y1.shape[0]\n",
    "    print(mdl.train_on_batch(x, [y1.reshape(bs, -1), y2.reshape(bs, -1)], return_dict=True), \"\\r\")\n",
    "#     break"
   ]
  },
  {
   "cell_type": "code",
   "execution_count": 21,
   "metadata": {
    "collapsed": true
   },
   "outputs": [
    {
     "data": {
      "image/png": "[encoded data removed]",
      "text/plain": [
       "<IPython.core.display.Image object>"
      ]
     },
     "execution_count": 21,
     "metadata": {},
     "output_type": "execute_result"
    }
   ],
   "source": [
    "keras.utils.plot_model(mdl)"
   ]
  },
  {
   "cell_type": "code",
   "execution_count": 39,
   "metadata": {},
   "outputs": [
    {
     "name": "stdout",
     "output_type": "stream",
     "text": [
      "Model: \"model_1\"\n",
      "__________________________________________________________________________________________________\n",
      "Layer (type)                    Output Shape         Param #     Connected to                     \n",
      "==================================================================================================\n",
      "input_3 (InputLayer)            [(None, 256, 256, 3) 0                                            \n",
      "__________________________________________________________________________________________________\n",
      "random_crop_1 (RandomCrop)      (None, 224, 224, 3)  0           input_3[0][0]                    \n",
      "__________________________________________________________________________________________________\n",
      "resnet50 (Model)                (None, 2048)         23587712    random_crop_1[0][0]              \n",
      "__________________________________________________________________________________________________\n",
      "trunk (Dense)                   (None, 1024)         2098176     resnet50[1][0]                   \n",
      "__________________________________________________________________________________________________\n",
      "incidents_projection (Dense)    (None, 44)           45100       trunk[0][0]                      \n",
      "__________________________________________________________________________________________________\n",
      "places_projection (Dense)       (None, 50)           51250       trunk[0][0]                      \n",
      "==================================================================================================\n",
      "Total params: 25,782,238\n",
      "Trainable params: 25,729,118\n",
      "Non-trainable params: 53,120\n",
      "__________________________________________________________________________________________________\n"
     ]
    }
   ],
   "source": [
    "mdl.summary()"
   ]
  }
 ],
 "metadata": {
  "kernelspec": {
   "display_name": "Python 3",
   "language": "python",
   "name": "python3"
  },
  "language_info": {
   "codemirror_mode": {
    "name": "ipython",
    "version": 3
   },
   "file_extension": ".py",
   "mimetype": "text/x-python",
   "name": "python",
   "nbconvert_exporter": "python",
   "pygments_lexer": "ipython3",
   "version": "3.8.5"
  }
 },
 "nbformat": 4,
 "nbformat_minor": 4
}
